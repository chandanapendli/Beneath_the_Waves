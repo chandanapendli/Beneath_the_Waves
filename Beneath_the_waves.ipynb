{
  "cells": [
    {
      "cell_type": "code",
      "execution_count": 100,
      "metadata": {
        "colab": {
          "base_uri": "https://localhost:8080/",
          "height": 36
        },
        "id": "SyGZARJQni3u",
        "outputId": "0e3c35fd-6c0a-4b82-9d75-0b1b5cd522ba"
      },
      "outputs": [
        {
          "output_type": "execute_result",
          "data": {
            "text/plain": [
              "'/content'"
            ],
            "application/vnd.google.colaboratory.intrinsic+json": {
              "type": "string"
            }
          },
          "metadata": {},
          "execution_count": 100
        }
      ],
      "source": [
        "pwd"
      ]
    },
    {
      "cell_type": "code",
      "execution_count": 101,
      "metadata": {
        "colab": {
          "base_uri": "https://localhost:8080/"
        },
        "id": "CsO5_f2So0Dz",
        "outputId": "53c5e27b-cfa4-4e47-974d-717d0abe8370"
      },
      "outputs": [
        {
          "output_type": "stream",
          "name": "stdout",
          "text": [
            "\u001b[0m\u001b[01;34mcorals\u001b[0m/  \u001b[01;34mdrive\u001b[0m/  \u001b[01;34msample_data\u001b[0m/\n"
          ]
        }
      ],
      "source": [
        "ls"
      ]
    },
    {
      "cell_type": "code",
      "execution_count": 102,
      "metadata": {
        "colab": {
          "base_uri": "https://localhost:8080/"
        },
        "id": "hbApZBmqo08z",
        "outputId": "d233672f-78da-49ba-c8a5-8f0fc485c76a"
      },
      "outputs": [
        {
          "output_type": "stream",
          "name": "stdout",
          "text": [
            "Drive already mounted at /content/drive; to attempt to forcibly remount, call drive.mount(\"/content/drive\", force_remount=True).\n"
          ]
        }
      ],
      "source": [
        "from google.colab import drive\n",
        "drive.mount('/content/drive')"
      ]
    },
    {
      "cell_type": "code",
      "execution_count": 103,
      "metadata": {
        "colab": {
          "base_uri": "https://localhost:8080/"
        },
        "id": "QjFztShLo7cp",
        "outputId": "3af82cc9-7dfa-4f43-9e04-687b84a34e9d"
      },
      "outputs": [
        {
          "output_type": "stream",
          "name": "stdout",
          "text": [
            "[Errno 20] Not a directory: '/content/drive/MyDrive/corals.zip'\n",
            "/content\n"
          ]
        }
      ],
      "source": [
        "cd /content/drive/MyDrive/corals.zip"
      ]
    },
    {
      "cell_type": "code",
      "execution_count": 104,
      "metadata": {
        "colab": {
          "base_uri": "https://localhost:8080/"
        },
        "id": "xTk9y9TgpPiA",
        "outputId": "06456fd9-4109-48d4-f185-d59547238c6f"
      },
      "outputs": [
        {
          "output_type": "stream",
          "name": "stdout",
          "text": [
            "Archive:  /content/drive/MyDrive/corals.zip\n",
            "replace corals/test.csv? [y]es, [n]o, [A]ll, [N]one, [r]ename: A\n",
            "  inflating: corals/test.csv         \n",
            "  inflating: corals/test/bleached/10309615296_7805d8534c_b.jpg  \n",
            "  inflating: corals/test/bleached/11263772193_b910d0037b_o.jpg  \n",
            "  inflating: corals/test/bleached/14157532279_3e38313638_o.jpg  \n",
            "  inflating: corals/test/bleached/14157549490_03cdd7426c_o.jpg  \n",
            "  inflating: corals/test/bleached/14548646926_661e9ea246_o.jpg  \n",
            "  inflating: corals/test/bleached/14606573298_b7e4b33c51_o.jpg  \n",
            "  inflating: corals/test/bleached/14633767870_660d182ff5_o.jpg  \n",
            "  inflating: corals/test/bleached/14633816529_af934e0aa8_o.jpg  \n",
            "  inflating: corals/test/bleached/14789911019_1ec52ae807_b.jpg  \n",
            "  inflating: corals/test/bleached/14789930360_cc7d42402c_b.jpg  \n",
            "  inflating: corals/test/bleached/14789940250_d750cd4a53_b.jpg  \n",
            "  inflating: corals/test/bleached/14817403701_d6453476ed_o.jpg  \n",
            "  inflating: corals/test/bleached/14818133414_41ea12389a_o.jpg  \n",
            "  inflating: corals/test/bleached/14914233772_457be50a50_o.jpg  \n",
            "  inflating: corals/test/bleached/14973495911_7b309404d2_b.jpg  \n",
            "  inflating: corals/test/bleached/14973511981_4cee187686_b.jpg  \n",
            "  inflating: corals/test/bleached/14973523231_9ec3820e41_b.jpg  \n",
            "  inflating: corals/test/bleached/15135317505_c4d2038feb_o.jpg  \n",
            "  inflating: corals/test/bleached/15370060503_1362ae2449_o.jpg  \n",
            "  inflating: corals/test/bleached/15459162241_d629be9b28_o.jpg  \n",
            "  inflating: corals/test/bleached/15459237241_a73bb933c6_o.jpg  \n",
            "  inflating: corals/test/bleached/15605895000_8981814747_o.png  \n",
            "  inflating: corals/test/bleached/15787146418_6373cf1a48_o.jpg  \n",
            "  inflating: corals/test/bleached/15890105980_0df2d8bd6d_o.jpg  \n",
            "  inflating: corals/test/bleached/16551019618_6f631ef807_o.jpg  \n",
            "  inflating: corals/test/bleached/18018559720_f2f0944cf4_o.jpg  \n",
            "  inflating: corals/test/bleached/21093258940_8bd52e2a03_o.jpg  \n",
            "  inflating: corals/test/bleached/21736943286_5abc15a6b5_b.jpg  \n",
            "  inflating: corals/test/bleached/22320951345_32a7d81f21_b.jpg  \n",
            "  inflating: corals/test/bleached/22682755579_2ae686be2f_o.jpg  \n",
            "  inflating: corals/test/bleached/23075042305_6a524cff4c_o.jpg  \n",
            "  inflating: corals/test/bleached/24112248934_58a8c92b52_o.jpg  \n",
            "  inflating: corals/test/bleached/24372768409_b6137310d3_o.jpg  \n",
            "  inflating: corals/test/bleached/24832028589_27ab7f1afb_o.jpg  \n",
            "  inflating: corals/test/bleached/25382194631_baca94f8a8_o.jpg  \n",
            "  inflating: corals/test/bleached/27929721702_c82f6fb1dc_o.jpg  \n",
            "  inflating: corals/test/bleached/27933177042_dfc1a3ec28_o.jpg  \n",
            "  inflating: corals/test/bleached/27957509801_f1a062f256_o.jpg  \n",
            "  inflating: corals/test/bleached/28015998906_5be1e81132_o.jpg  \n",
            "  inflating: corals/test/bleached/28050652105_562c80e24c_o.jpg  \n",
            "  inflating: corals/test/bleached/2854094036_38bf3099f2_o.jpg  \n",
            "  inflating: corals/test/bleached/28868773752_53292dc538_o.jpg  \n",
            "  inflating: corals/test/bleached/3117331288_862bc308cb_o.jpg  \n",
            "  inflating: corals/test/bleached/3138325955_a81720c19b_o.jpg  \n",
            "  inflating: corals/test/bleached/31582794340_53720b5259_o.jpg  \n",
            "  inflating: corals/test/bleached/32917968176_efd2de3e2d_b.jpg  \n",
            "  inflating: corals/test/bleached/33129929514_6e1d0ba61f_o.jpg  \n",
            "  inflating: corals/test/bleached/33129988644_44857759e2_o.jpg  \n",
            "  inflating: corals/test/bleached/3334983049_7558a518af_o.jpg  \n",
            "  inflating: corals/test/bleached/33588057910_873748898d_o.jpg  \n",
            "  inflating: corals/test/bleached/33588620700_f8c4112f9b_o.jpg  \n",
            "  inflating: corals/test/bleached/33588626560_282c6f164e_o.jpg  \n",
            "  inflating: corals/test/bleached/3472165923_6ffb91faef_o.jpg  \n",
            "  inflating: corals/test/bleached/35132798483_7e582db6e5_o.jpg  \n",
            "  inflating: corals/test/bleached/36342364094_a3a3876f92_o.jpg  \n",
            "  inflating: corals/test/bleached/37826086115_ab76cc3904_o.jpg  \n",
            "  inflating: corals/test/bleached/37848027286_beb40315ab_o.jpg  \n",
            "  inflating: corals/test/bleached/39484207735_06b8e4e2d8_b.jpg  \n",
            "  inflating: corals/test/bleached/3984842231_0539370dac_o.jpg  \n",
            "  inflating: corals/test/bleached/39929886033_26f7679ca1_b.jpg  \n",
            "  inflating: corals/test/bleached/39950721522_8f755f7161_o.jpg  \n",
            "  inflating: corals/test/bleached/40157448320_797c300826_o.jpg  \n",
            "  inflating: corals/test/bleached/40303084995_7a76700b29_o.jpg  \n",
            "  inflating: corals/test/bleached/40335373024_2618068650_b.jpg  \n",
            "  inflating: corals/test/bleached/40664179551_5732a761f9_o.jpg  \n",
            "  inflating: corals/test/bleached/40809846982_889a24fcbd_b.jpg  \n",
            "  inflating: corals/test/bleached/41064057611_1a3f12b71b_o.jpg  \n",
            "  inflating: corals/test/bleached/4434852613_a0a8e5c827_o.jpg  \n",
            "  inflating: corals/test/bleached/45694269012_d3a7b5691a_o.jpg  \n",
            "  inflating: corals/test/bleached/4636891974_61f2bc85fc_o.jpg  \n",
            "  inflating: corals/test/bleached/4665214905_3ba94454eb_b.jpg  \n",
            "  inflating: corals/test/bleached/4674521434_9d7f58f333_o.jpg  \n",
            "  inflating: corals/test/bleached/4734522787_f3c1b67538_b.jpg  \n",
            "  inflating: corals/test/bleached/4754552799_9e2f235b93_o.jpg  \n",
            "  inflating: corals/test/bleached/4771210000_29b4c233b6_o.jpg  \n",
            "  inflating: corals/test/bleached/4820197456_762199166b_o.jpg  \n",
            "  inflating: corals/test/bleached/4892454919_a0e8181a43_b.jpg  \n",
            "  inflating: corals/test/bleached/4893050872_1c5fe56f69_b.jpg  \n",
            "  inflating: corals/test/bleached/4959196019_4f4b0ccd45_o.jpg  \n",
            "  inflating: corals/test/bleached/4962926941_8fe2833fd7_o.jpg  \n",
            "  inflating: corals/test/bleached/4964242200_d2be746207_o.jpg  \n",
            "  inflating: corals/test/bleached/5199635092_e2354a3dc0_o.jpg  \n",
            "  inflating: corals/test/bleached/5303196640_8248ab50b0_o.jpg  \n",
            "  inflating: corals/test/bleached/5397428977_5b30a3d7a8_o.jpg  \n",
            "  inflating: corals/test/bleached/5397429239_2dafa7fe13_o.jpg  \n",
            "  inflating: corals/test/bleached/5397442845_dd935c60f6_o.jpg  \n",
            "  inflating: corals/test/bleached/6131023417_409946f54d_b.jpg  \n",
            "  inflating: corals/test/bleached/6207765253_f0c6cc5162_b.jpg  \n",
            "  inflating: corals/test/bleached/6387206507_faa332cbc1_o.jpg  \n",
            "  inflating: corals/test/bleached/6392318609_c65a9aed4d_o.jpg  \n",
            "  inflating: corals/test/bleached/6392485679_18d26e6923_o.jpg  \n",
            "  inflating: corals/test/bleached/6416564697_76ea4605dc_o.jpg  \n",
            "  inflating: corals/test/bleached/6722541539_ca279c70dd_o.jpg  \n",
            "  inflating: corals/test/bleached/7326685866_a069c89210_o.jpg  \n",
            "  inflating: corals/test/bleached/7660585356_8b49a5acc2_o.jpg  \n",
            "  inflating: corals/test/bleached/8517429_68924ed843_o.jpg  \n",
            "  inflating: corals/test/bleached/8580737466_7576e488e7_b.jpg  \n",
            "  inflating: corals/test/bleached/8676906757_87ebbb0594_o.jpg  \n",
            "  inflating: corals/test/bleached/8677958894_932fcb0d30_o.jpg  \n",
            "  inflating: corals/test/bleached/8678020760_d29bb42cca_o.jpg  \n",
            "  inflating: corals/test/bleached/8721512051_3d7d96ac72_o.jpg  \n",
            "  inflating: corals/test/bleached/8728196670_204e0338d5_o.jpg  \n",
            "  inflating: corals/test/bleached/9408998752_c88cbb2388_o.jpg  \n",
            "  inflating: corals/test/bleached/9944219035_5c47b13e8f_o.jpg  \n",
            "  inflating: corals/test/healthy/10167343533_ea141f7e70_b.jpg  \n",
            "  inflating: corals/test/healthy/10472474274_1f73391912_o.jpg  \n",
            "  inflating: corals/test/healthy/11181383133_411acd063f_o.jpg  \n",
            "  inflating: corals/test/healthy/12047776084_5c3d553846_b.jpg  \n",
            "  inflating: corals/test/healthy/12204893066_79557f2eb8_b.jpg  \n",
            "  inflating: corals/test/healthy/12678987553_66ddc5afd9_b.jpg  \n",
            "  inflating: corals/test/healthy/13973931311_daf38429eb_b.jpg  \n",
            "  inflating: corals/test/healthy/14307809941_27b4257449_o.jpg  \n",
            "  inflating: corals/test/healthy/14856466066_4c8af3c82e_o.jpg  \n",
            "  inflating: corals/test/healthy/14878367254_71deab14f9_o.jpg  \n",
            "  inflating: corals/test/healthy/15048176469_d1bcb75417_b.jpg  \n",
            "  inflating: corals/test/healthy/16282304932_1ab8a7ce5e_b.jpg  \n",
            "  inflating: corals/test/healthy/16426224025_f750fb7e32_b.jpg  \n",
            "  inflating: corals/test/healthy/16841190725_981544322c_b.jpg  \n",
            "  inflating: corals/test/healthy/18344819026_cd72c68fbb_b.jpg  \n",
            "  inflating: corals/test/healthy/21617926276_b4d07d7b37_o.jpg  \n",
            "  inflating: corals/test/healthy/23075042665_aa8520ec86_o.jpg  \n",
            "  inflating: corals/test/healthy/23086238271_17b0c935c6_o.jpg  \n",
            "  inflating: corals/test/healthy/25228975637_a66c69f686_b.jpg  \n",
            "  inflating: corals/test/healthy/25639603105_399387e5a4_o.jpg  \n",
            "  inflating: corals/test/healthy/26011989544_12850cc2de_o.jpg  \n",
            "  inflating: corals/test/healthy/26416720126_5c687a47af_o.jpg  \n",
            "  inflating: corals/test/healthy/26641775299_53ec3af24a_o.jpg  \n",
            "  inflating: corals/test/healthy/2728506840_d92ee3778c_b.jpg  \n",
            "  inflating: corals/test/healthy/27627673012_7a63b12bc9_o.jpg  \n",
            "  inflating: corals/test/healthy/27694448636_4cb9ace81f_o.jpg  \n",
            "  inflating: corals/test/healthy/27871070167_0997538fea_o.jpg  \n",
            "  inflating: corals/test/healthy/2828193220_27a0caa8c9_o.jpg  \n",
            "  inflating: corals/test/healthy/2901229228_8354d571d9_o.jpg  \n",
            "  inflating: corals/test/healthy/2980775197_e4526a5fe0_o.jpg  \n",
            "  inflating: corals/test/healthy/29867277417_7c9b0daa47_o.jpg  \n",
            "  inflating: corals/test/healthy/3022783330_3f5fa1b7b2_o.jpg  \n",
            "  inflating: corals/test/healthy/3036697229_abcceb7f60_o.jpg  \n",
            "  inflating: corals/test/healthy/32380658771_9df8b49279_b.jpg  \n",
            "  inflating: corals/test/healthy/3418297459_a1deefe768_o.jpg  \n",
            "  inflating: corals/test/healthy/3710131082_6e0320b42b_b.jpg  \n",
            "  inflating: corals/test/healthy/37391917484_2974d97d44_b.jpg  \n",
            "  inflating: corals/test/healthy/37452228672_764d46339c_o.jpg  \n",
            "  inflating: corals/test/healthy/37883841756_439b83d14c_b.jpg  \n",
            "  inflating: corals/test/healthy/38375188482_3c96d8dda9_o.jpg  \n",
            "  inflating: corals/test/healthy/39632438935_2f1a798267_b.jpg  \n",
            "  inflating: corals/test/healthy/39716256901_e45e7255c8_o.jpg  \n",
            "  inflating: corals/test/healthy/39749608495_d0bb62019d_b.jpg  \n",
            "  inflating: corals/test/healthy/3982686117_5b54dd22d9_o.jpg  \n",
            "  inflating: corals/test/healthy/39853692294_e02bb64bd9_b.jpg  \n",
            "  inflating: corals/test/healthy/40287258061_f338161d6e_o.jpg  \n",
            "  inflating: corals/test/healthy/40329671964_2d8130c083_b.jpg  \n",
            "  inflating: corals/test/healthy/41701842004_27f48b75bf_o.jpg  \n",
            "  inflating: corals/test/healthy/41827451202_da848ab68c_o.jpg  \n",
            "  inflating: corals/test/healthy/41837913181_93ac2bcc6f_b.jpg  \n",
            "  inflating: corals/test/healthy/41937301232_24eab90187_o.jpg  \n",
            "  inflating: corals/test/healthy/41976880035_6c42b24706_o.jpg  \n",
            "  inflating: corals/test/healthy/4235508563_241388824d_o.jpg  \n",
            "  inflating: corals/test/healthy/43109469732_08c37e4504_b.jpg  \n",
            "  inflating: corals/test/healthy/43849269332_f8d6aa38f7_o.jpg  \n",
            "  inflating: corals/test/healthy/44119502884_0449b8c859_b.jpg  \n",
            "  inflating: corals/test/healthy/47192544022_2174e259a1_o.jpg  \n",
            "  inflating: corals/test/healthy/4806903758_90976a1a5c_o.jpg  \n",
            "  inflating: corals/test/healthy/4830272208_b80b2f95de_o.jpg  \n",
            "  inflating: corals/test/healthy/5280534721_288f94bdbd_o.jpg  \n",
            "  inflating: corals/test/healthy/5280556409_c1597eed3b_o.jpg  \n",
            "  inflating: corals/test/healthy/5350806836_1a3aa54bab_o.jpg  \n",
            "  inflating: corals/test/healthy/5365142795_f3f4061030_o.jpg  \n",
            "  inflating: corals/test/healthy/5379411267_fc71af45f5_o.jpg  \n",
            "  inflating: corals/test/healthy/5466913807_e0c734e7ae_b.jpg  \n",
            "  inflating: corals/test/healthy/5610577701_8b3e34b4e1_o.jpg  \n",
            "  inflating: corals/test/healthy/5644688923_b4c508b52d_o.jpg  \n",
            "  inflating: corals/test/healthy/6040359467_2e65fdf1ac_o.jpg  \n",
            "  inflating: corals/test/healthy/6685266501_befd5073d7_o.jpg  \n",
            "  inflating: corals/test/healthy/6951676712_586b143f4f_b.jpg  \n",
            "  inflating: corals/test/healthy/7171233627_0e5af81a21_b.jpg  \n",
            "  inflating: corals/test/healthy/7292228974_d663d4da5f_b.jpg  \n",
            "  inflating: corals/test/healthy/7314117898_60fa18fa43_b.jpg  \n",
            "  inflating: corals/test/healthy/7531712270_780099f800_o.jpg  \n",
            "  inflating: corals/test/healthy/8322557890_5ea6c20ef5_b.jpg  \n",
            "  inflating: corals/test/healthy/8328303058_9604d950d4_b.jpg  \n",
            "  inflating: corals/test/healthy/8633309015_89295b19fc_o.jpg  \n",
            "  inflating: corals/test/healthy/9091343059_b202f3c7a7_o.jpg  \n",
            "  inflating: corals/test/healthy/9262043943_73e2ed93a9_o.jpg  \n",
            "  inflating: corals/test/healthy/9329987653_139d9fa0af_o.jpg  \n",
            "  inflating: corals/test/healthy/9332806462_e9a939d374_o.jpg  \n",
            "  inflating: corals/train.csv        \n",
            "  inflating: corals/train/bleached/10033870215_3664757d59_o.jpg  \n",
            "  inflating: corals/train/bleached/10160888014_be7c71167c_o.jpg  \n",
            "  inflating: corals/train/bleached/10415679866_6eea4769f6_o.jpg  \n",
            "  inflating: corals/train/bleached/11023816893_9994f554e2_o.jpg  \n",
            "  inflating: corals/train/bleached/11333883796_e74aa9bd17_o.jpg  \n",
            "  inflating: corals/train/bleached/11531111734_db61a343f5_o.jpg  \n",
            "  inflating: corals/train/bleached/11976060315_0d2386683a_b.jpg  \n",
            "  inflating: corals/train/bleached/12082131116_5d81a09e1b_b.jpg  \n",
            "  inflating: corals/train/bleached/1257640480_faad6caad9_o.jpg  \n",
            "  inflating: corals/train/bleached/13754287985_5fc707aced_o.jpg  \n",
            "  inflating: corals/train/bleached/1381897236_7096786d92_o.jpg  \n",
            "  inflating: corals/train/bleached/13938277197_44b23a6021_b.jpg  \n",
            "  inflating: corals/train/bleached/13938317528_37c28de1ed_b.jpg  \n",
            "  inflating: corals/train/bleached/14101776356_d4d9038de3_b.jpg  \n",
            "  inflating: corals/train/bleached/14121636971_2b17a216fd_b.jpg  \n",
            "  inflating: corals/train/bleached/14145016233_210d01eb5d_b.jpg  \n",
            "  inflating: corals/train/bleached/14164148280_5a30747885_o.jpg  \n",
            "  inflating: corals/train/bleached/14184579797_9df22c65b8_o.jpg  \n",
            "  inflating: corals/train/bleached/14274360077_c2f8b1fa39_o.jpg  \n",
            "  inflating: corals/train/bleached/14340805801_5feec9690f_o.jpg  \n",
            "  inflating: corals/train/bleached/14343383014_c661e512ee_o.jpg  \n",
            "  inflating: corals/train/bleached/14420989006_24a2b33549_b.jpg  \n",
            "  inflating: corals/train/bleached/14450856225_4391fc43c4_b.jpg  \n",
            "  inflating: corals/train/bleached/14568406671_3429c5ce71_o.jpg  \n",
            "  inflating: corals/train/bleached/14571745355_98f1718a09_o.jpg  \n",
            "  inflating: corals/train/bleached/14612614529_f50e06961c_o.jpg  \n",
            "  inflating: corals/train/bleached/14633820588_905c5e850a_o.jpg  \n",
            "  inflating: corals/train/bleached/14633837869_10399f720b_o.jpg  \n",
            "  inflating: corals/train/bleached/14633855778_107f05cba3_o.jpg  \n",
            "  inflating: corals/train/bleached/14633884397_53d3dbe584_o.jpg  \n",
            "  inflating: corals/train/bleached/14633934787_b2a1e4e803_o.jpg  \n",
            "  inflating: corals/train/bleached/14633937377_cf9902548b_o.jpg  \n",
            "  inflating: corals/train/bleached/14784774402_7f26bbaefe_o.jpg  \n",
            "  inflating: corals/train/bleached/14789904809_e0779e7cbe_b.jpg  \n",
            "  inflating: corals/train/bleached/14789906589_953fbce5bf_b.jpg  \n",
            "  inflating: corals/train/bleached/14789910259_5cbc54b4eb_b.jpg  \n",
            "  inflating: corals/train/bleached/14789930179_88c415837f_b.jpg  \n",
            "  inflating: corals/train/bleached/14789934140_05e3f10c35_b.jpg  \n",
            "  inflating: corals/train/bleached/14790000358_faf8b984df_b.jpg  \n",
            "  inflating: corals/train/bleached/14790008018_d86c4b523a_b.jpg  \n",
            "  inflating: corals/train/bleached/14790053087_560f552b76_b.jpg  \n",
            "  inflating: corals/train/bleached/14790055587_d33ca9a3de_b.jpg  \n",
            "  inflating: corals/train/bleached/14817357391_1eaab3c8a5_o.jpg  \n",
            "  inflating: corals/train/bleached/14817358081_24c76fd71c_o.jpg  \n",
            "  inflating: corals/train/bleached/14817388631_ab56ca8a1a_o.jpg  \n",
            "  inflating: corals/train/bleached/14817411731_e5c8265c33_o.jpg  \n",
            "  inflating: corals/train/bleached/14818106454_cb8fdf9d33_o.jpg  \n",
            "  inflating: corals/train/bleached/14818127674_b7ceea3543_o.jpg  \n",
            "  inflating: corals/train/bleached/14820105082_7e7c9eeae3_o.jpg  \n",
            "  inflating: corals/train/bleached/14820440125_b184eddba4_o.jpg  \n",
            "  inflating: corals/train/bleached/14820481395_fb79e2d700_o.jpg  \n",
            "  inflating: corals/train/bleached/14840328913_5728092dd8_o.jpg  \n",
            "  inflating: corals/train/bleached/14899055185_0864fd159d_o.jpg  \n",
            "  inflating: corals/train/bleached/14913058584_146660dcf6_b.jpg  \n",
            "  inflating: corals/train/bleached/14948757477_ec668ebe8d_o.jpg  \n",
            "  inflating: corals/train/bleached/14953612606_01dd03996a_b.jpg  \n",
            "  inflating: corals/train/bleached/14953626026_f654e62774_b.jpg  \n",
            "  inflating: corals/train/bleached/14953638446_6f93d0ce79_b.jpg  \n",
            "  inflating: corals/train/bleached/14953640486_08df30f3e4_b.jpg  \n",
            "  inflating: corals/train/bleached/14953641286_0dfa4ae361_b.jpg  \n",
            "  inflating: corals/train/bleached/14973500361_cb81e271b5_b.jpg  \n",
            "  inflating: corals/train/bleached/14973513881_ae1efe9e2a_b.jpg  \n",
            "  inflating: corals/train/bleached/14973517671_71981f5a6e_b.jpg  \n",
            "  inflating: corals/train/bleached/14973523991_e995999c4a_b.jpg  \n",
            "  inflating: corals/train/bleached/14976242782_64a566881a_b.jpg  \n",
            "  inflating: corals/train/bleached/14976247152_2312ebb047_b.jpg  \n",
            "  inflating: corals/train/bleached/14976250812_1a6664dacd_b.jpg  \n",
            "  inflating: corals/train/bleached/14976273702_2837d366d4_b.jpg  \n",
            "  inflating: corals/train/bleached/14976275642_2325922d05_b.jpg  \n",
            "  inflating: corals/train/bleached/14976608815_e5eab2c699_b.jpg  \n",
            "  inflating: corals/train/bleached/14986419582_3585068d13_b.jpg  \n",
            "  inflating: corals/train/bleached/15078840770_a92306a0bd_o.jpg  \n",
            "  inflating: corals/train/bleached/15258568480_5a8ac65fab_o.jpg  \n",
            "  inflating: corals/train/bleached/15274822310_e51574c530_o.jpg  \n",
            "  inflating: corals/train/bleached/15274978947_0b3901fffc_o.jpg  \n",
            "  inflating: corals/train/bleached/15274984347_1834e7dab9_o.jpg  \n",
            "  inflating: corals/train/bleached/15439279326_d9c95897d9_o.jpg  \n",
            "  inflating: corals/train/bleached/15455078924_8a5c350711_o.jpg  \n",
            "  inflating: corals/train/bleached/15461769512_cb7e5fccfa_o.jpg  \n",
            "  inflating: corals/train/bleached/1558786009_097a857b64_b.jpg  \n",
            "  inflating: corals/train/bleached/15598304567_45c1721b6c_o.jpg  \n",
            "  inflating: corals/train/bleached/15664466994_c2ac518442_o.jpg  \n",
            "  inflating: corals/train/bleached/15664476254_0e5bfa79c0_o.jpg  \n",
            "  inflating: corals/train/bleached/15889862378_480e08ebcf_o.jpg  \n",
            "  inflating: corals/train/bleached/15890087590_4dbddacb5b_o.jpg  \n",
            "  inflating: corals/train/bleached/15891590697_1de031ef13_o.jpg  \n",
            "  inflating: corals/train/bleached/16045766992_ffecf39d86_o.jpg  \n",
            "  inflating: corals/train/bleached/16051547956_12d5b6c365_o.jpg  \n",
            "  inflating: corals/train/bleached/16054557555_ae60599e1b_o.jpg  \n",
            "  inflating: corals/train/bleached/16099540620_d505d7802d_o.jpg  \n",
            "  inflating: corals/train/bleached/16100757799_d478793c8a_o.jpg  \n",
            "  inflating: corals/train/bleached/16260961466_35d838b134_o.jpg  \n",
            "  inflating: corals/train/bleached/16795102656_6620f25c87_o.jpg  \n",
            "  inflating: corals/train/bleached/16821031211_c5c5d9b4f8_o.jpg  \n",
            "  inflating: corals/train/bleached/17178717058_0a7d05b8c9_o.jpg  \n",
            "  inflating: corals/train/bleached/17585237184_8faa93aae9_o.jpg  \n",
            "  inflating: corals/train/bleached/18020028399_a77d06efbe_o.jpg  \n",
            "  inflating: corals/train/bleached/18179620866_b2d98c8421_o.jpg  \n",
            "  inflating: corals/train/bleached/18202562962_3aaed30f4c_o.jpg  \n",
            "  inflating: corals/train/bleached/18206069405_acac2f12e6_o.jpg  \n",
            "  inflating: corals/train/bleached/18662171763_b190acebe4_o.jpg  \n",
            "  inflating: corals/train/bleached/19256646336_b78ce3d64f_o.jpg  \n",
            "  inflating: corals/train/bleached/19929371285_3a8a65ef21_b.jpg  \n",
            "  inflating: corals/train/bleached/20184298293_3e0d0c5b6f_o.jpg  \n",
            "  inflating: corals/train/bleached/20185353413_0f8bf6c6bf_o.jpg  \n",
            "  inflating: corals/train/bleached/20618316440_b01f22c7be_o.jpg  \n",
            "  inflating: corals/train/bleached/20660206283_09a9cf8136_o.jpg  \n",
            "  inflating: corals/train/bleached/20796863252_04399035fb_o.jpg  \n",
            "  inflating: corals/train/bleached/20818206781_fcee27a762_o.jpg  \n",
            "  inflating: corals/train/bleached/21094488989_904cea3a3b_o.jpg  \n",
            "  inflating: corals/train/bleached/21179919203_4000d11d9a_b.jpg  \n",
            "  inflating: corals/train/bleached/21206633720_eac69814f9_o.jpg  \n",
            "  inflating: corals/train/bleached/21210061359_7dbeee3e98_o.jpg  \n",
            "  inflating: corals/train/bleached/21371610446_a98232091b_o.jpg  \n",
            "  inflating: corals/train/bleached/21384866822_56597a2d0b_o.jpg  \n",
            "  inflating: corals/train/bleached/21386078352_33197739f0_o.jpg  \n",
            "  inflating: corals/train/bleached/21386084092_8d3f55502d_o.jpg  \n",
            "  inflating: corals/train/bleached/21386098942_2b4386041b_o.jpg  \n",
            "  inflating: corals/train/bleached/21470830162_8e33d13683_b.jpg  \n",
            "  inflating: corals/train/bleached/21670405772_4b90f35474_o.jpg  \n",
            "  inflating: corals/train/bleached/22378280290_a8c7489f86_o.jpg  \n",
            "  inflating: corals/train/bleached/22656668027_6fde0036f0_o.jpg  \n",
            "  inflating: corals/train/bleached/22682754679_7095240f2f_o.jpg  \n",
            "  inflating: corals/train/bleached/22682756559_1bbd856415_o.jpg  \n",
            "  inflating: corals/train/bleached/22963517204_158bdf735b_b.jpg  \n",
            "  inflating: corals/train/bleached/22964660953_2eef577c58_b.jpg  \n",
            "  inflating: corals/train/bleached/23061419232_119aee925e_o.jpg  \n",
            "  inflating: corals/train/bleached/23075042665_aa8520ec86_o.jpg  \n",
            "  inflating: corals/train/bleached/23086238271_17b0c935c6_o.jpg  \n",
            "  inflating: corals/train/bleached/23153468189_c2eddee896_o.jpg  \n",
            "  inflating: corals/train/bleached/23296007370_095bb322d1_b.jpg  \n",
            "  inflating: corals/train/bleached/23412941452_1b8351f0de_o.jpg  \n",
            "  inflating: corals/train/bleached/2429161515_dd2e45b102_o.jpg  \n",
            "  inflating: corals/train/bleached/24490407035_064ed9aa67_o.jpg  \n",
            "  inflating: corals/train/bleached/24966944771_7376772635_b.jpg  \n",
            "  inflating: corals/train/bleached/25953974483_02c2104850_b.jpg  \n",
            "  inflating: corals/train/bleached/26029050502_5c8f6db02d_o.jpg  \n",
            "  inflating: corals/train/bleached/26087696762_8f38fed697_o.jpg  \n",
            "  inflating: corals/train/bleached/2662551789_11257f723c_o.jpg  \n",
            "  inflating: corals/train/bleached/27066547605_be56102690_o.jpg  \n",
            "  inflating: corals/train/bleached/27119208655_78d1206562_b.jpg  \n",
            "  inflating: corals/train/bleached/27304994093_ea6064e76e_o.jpg  \n",
            "  inflating: corals/train/bleached/27422054193_85151265dc_o.jpg  \n",
            "  inflating: corals/train/bleached/27436563583_1126863be6_o.jpg  \n",
            "  inflating: corals/train/bleached/27506264306_43bc326780_o.jpg  \n",
            "  inflating: corals/train/bleached/27627673012_7a63b12bc9_o.jpg  \n",
            "  inflating: corals/train/bleached/28050650485_0d07fd8dc5_o.jpg  \n",
            "  inflating: corals/train/bleached/28221231796_edf3c0ec4f_o.jpg  \n",
            "  inflating: corals/train/bleached/28245767640_ffa63bbf6b_o.jpg  \n",
            "  inflating: corals/train/bleached/28245768540_96e6446e1a_o.jpg  \n",
            "  inflating: corals/train/bleached/28357165433_079a1d5d35_o.jpg  \n",
            "  inflating: corals/train/bleached/28423513792_4a125dd2b2_o.jpg  \n",
            "  inflating: corals/train/bleached/28451693571_cfbf73acbb_o.jpg  \n",
            "  inflating: corals/train/bleached/28451705821_81e5e02bb1_o.jpg  \n",
            "  inflating: corals/train/bleached/28497428126_855134e3a1_o.jpg  \n",
            "  inflating: corals/train/bleached/28516039802_75d194f79c_o.jpg  \n",
            "  inflating: corals/train/bleached/28687807580_311222a4bb_o.jpg  \n",
            "  inflating: corals/train/bleached/28687855020_932104291a_o.jpg  \n",
            "  inflating: corals/train/bleached/28687860430_e8f3f57eba_o.jpg  \n",
            "  inflating: corals/train/bleached/28868750612_69bac0fd99_o.jpg  \n",
            "  inflating: corals/train/bleached/28897334291_62c5845484_o.jpg  \n",
            "  inflating: corals/train/bleached/28897344361_d82aa3e05d_o.jpg  \n",
            "  inflating: corals/train/bleached/28941304766_a46e7d8b58_o.jpg  \n",
            "  inflating: corals/train/bleached/28956833752_f90f134248_b.jpg  \n",
            "  inflating: corals/train/bleached/29029378166_ef56f1a1a2_b.jpg  \n",
            "  inflating: corals/train/bleached/29198832082_c15b4458bf_o.jpg  \n",
            "  inflating: corals/train/bleached/29276552722_72a09d51fd_o.jpg  \n",
            "  inflating: corals/train/bleached/29376275703_fc3ea71718_o.jpg  \n",
            "  inflating: corals/train/bleached/29396243653_9510bafb2d_o.jpg  \n",
            "  inflating: corals/train/bleached/29464086862_f90d17f870_b.jpg  \n",
            "  inflating: corals/train/bleached/29556280303_0b2b703191_b.jpg  \n",
            "  inflating: corals/train/bleached/29709666590_9d3215b393_o.jpg  \n",
            "  inflating: corals/train/bleached/30003515585_5b6cd9da6a_o.jpg  \n",
            "  inflating: corals/train/bleached/30003677185_2c5b05e91d_o.jpg  \n",
            "  inflating: corals/train/bleached/30007500886_8d3c5cf483_o.jpg  \n",
            "  inflating: corals/train/bleached/30022664915_53a5dd62cd_o.jpg  \n",
            "  inflating: corals/train/bleached/3026218663_aafea2df30_o.jpg  \n",
            "  inflating: corals/train/bleached/30432076712_115c566096_o.jpg  \n",
            "  inflating: corals/train/bleached/31493615942_5e69542276_b.jpg  \n",
            "  inflating: corals/train/bleached/31603367546_e389da99f6_b.jpg  \n",
            "  inflating: corals/train/bleached/32394123080_c64abb4245_b.jpg  \n",
            "  inflating: corals/train/bleached/33129416104_3a0fc86b2d_o.jpg  \n",
            "  inflating: corals/train/bleached/33129926974_1316c32d2f_o.jpg  \n",
            "  inflating: corals/train/bleached/33129932334_7355a3ec15_o.jpg  \n",
            "  inflating: corals/train/bleached/33588071250_5c474b890d_o.jpg  \n",
            "  inflating: corals/train/bleached/33588528200_d7d7a82ba1_o.jpg  \n",
            "  inflating: corals/train/bleached/33588597750_8e47385004_o.jpg  \n",
            "  inflating: corals/train/bleached/33588598730_187e4e0abb_o.jpg  \n",
            "  inflating: corals/train/bleached/33588609230_cca22c4f5e_o.jpg  \n",
            "  inflating: corals/train/bleached/33588618890_4cda253faf_o.jpg  \n",
            "  inflating: corals/train/bleached/33588714670_c71643e0f7_o.jpg  \n",
            "  inflating: corals/train/bleached/33588720940_8f40949b4a_o.jpg  \n",
            "  inflating: corals/train/bleached/33675816731_6b098be616_o.jpg  \n",
            "  inflating: corals/train/bleached/33931923806_ec6d84123c_o.jpg  \n",
            "  inflating: corals/train/bleached/33932374186_c3f0eeb381_o.jpg  \n",
            "  inflating: corals/train/bleached/33932503076_79a24a44bb_o.jpg  \n",
            "  inflating: corals/train/bleached/33973134195_bf94042012_o.jpg  \n",
            "  inflating: corals/train/bleached/33973729485_c96551a614_o.jpg  \n",
            "  inflating: corals/train/bleached/33973839505_218cd7cd11_o.jpg  \n",
            "  inflating: corals/train/bleached/33973909935_7fed79fc2a_o.jpg  \n",
            "  inflating: corals/train/bleached/33977415095_f2b5b1d1ea_b.jpg  \n",
            "  inflating: corals/train/bleached/3406482805_1ec07bfa93_o.jpg  \n",
            "  inflating: corals/train/bleached/34287211626_e7dbae7152_o.jpg  \n",
            "  inflating: corals/train/bleached/34341300683_8829699ddb_o.jpg  \n",
            "  inflating: corals/train/bleached/34386944706_7e8bebcd20_o.jpg  \n",
            "  inflating: corals/train/bleached/36027918170_a8e86d6c0c_o.jpg  \n",
            "  inflating: corals/train/bleached/36231074642_89f72a0329_o.jpg  \n",
            "  inflating: corals/train/bleached/36342347314_e968e21644_o.jpg  \n",
            "  inflating: corals/train/bleached/36342352044_4d23dea00d_o.jpg  \n",
            "  inflating: corals/train/bleached/36342358084_697e3e7748_o.jpg  \n",
            "  inflating: corals/train/bleached/36342360524_c05af55cd7_o.jpg  \n",
            "  inflating: corals/train/bleached/36347843096_b16b5f1119_o.jpg  \n",
            "  inflating: corals/train/bleached/36640519500_a68293d55b_o.jpg  \n",
            "  inflating: corals/train/bleached/36781528600_78527e140c_o.jpg  \n",
            "  inflating: corals/train/bleached/3688276697_5ee4b2e4f0_o.jpg  \n",
            "  inflating: corals/train/bleached/3688287425_3e063e611f_o.jpg  \n",
            "  inflating: corals/train/bleached/3717278156_f0285ccc9b_o.jpg  \n",
            "  inflating: corals/train/bleached/37704939651_ac45ce0dbd_o.jpg  \n",
            "  inflating: corals/train/bleached/381510257_cdec223932_o.jpg  \n",
            "  inflating: corals/train/bleached/3866725705_7317bcf9ac_b.jpg  \n",
            "  inflating: corals/train/bleached/38854211860_5d64c568d2_o.jpg  \n",
            "  inflating: corals/train/bleached/392871468_82f033b05d_o.jpg  \n",
            "  inflating: corals/train/bleached/39523903804_d31b1d2af7_o.jpg  \n",
            "  inflating: corals/train/bleached/39523908564_52a1aa96eb_o.jpg  \n",
            "  inflating: corals/train/bleached/39708933072_afcbf45e8e_b.jpg  \n",
            "  inflating: corals/train/bleached/40157597050_bfa01019b5_o.jpg  \n",
            "  inflating: corals/train/bleached/40157598040_06d21cb1eb_o.jpg  \n",
            "  inflating: corals/train/bleached/40157599330_47e68204d2_o.jpg  \n",
            "  inflating: corals/train/bleached/40202297452_7beb50f6fe_o.jpg  \n",
            "  inflating: corals/train/bleached/4117345237_96cd1dc700_o.jpg  \n",
            "  inflating: corals/train/bleached/41515501590_708fd3cb35_b.jpg  \n",
            "  inflating: corals/train/bleached/41631380651_9fa0605ded_b.jpg  \n",
            "  inflating: corals/train/bleached/41658717240_0f44c1bd2d_o.jpg  \n",
            "  inflating: corals/train/bleached/42528966131_2fd8e6bc80_b.jpg  \n",
            "  inflating: corals/train/bleached/434365969_3d0c9c9647_o.jpg  \n",
            "  inflating: corals/train/bleached/4424086363_af89dc30ea_o.jpg  \n",
            "  inflating: corals/train/bleached/45435650985_499bab2836_o.jpg  \n",
            "  inflating: corals/train/bleached/4559830591_3953693f05_o.jpg  \n",
            "  inflating: corals/train/bleached/4559840851_d9c7ac357c_o.jpg  \n",
            "  inflating: corals/train/bleached/4559842029_e37966b82f_o.jpg  \n",
            "  inflating: corals/train/bleached/4559842495_036f8eb5a2_o.jpg  \n",
            "  inflating: corals/train/bleached/45615732222_d695fd3096_o.jpg  \n",
            "  inflating: corals/train/bleached/4636280115_a697b5187e_o.jpg  \n",
            "  inflating: corals/train/bleached/4636282459_131e244ea1_o.jpg  \n",
            "  inflating: corals/train/bleached/46440873795_941044d62d_o.jpg  \n",
            "  inflating: corals/train/bleached/4695377101_03d3573df4_o.jpg  \n",
            "  inflating: corals/train/bleached/4735410240_1c564c987b_o.jpg  \n",
            "  inflating: corals/train/bleached/4754537945_da82573160_o.jpg  \n",
            "  inflating: corals/train/bleached/4754538714_1a3062e199_o.jpg  \n",
            "  inflating: corals/train/bleached/4755027246_47b96c64ec_o.jpg  \n",
            "  inflating: corals/train/bleached/4755197878_ff72a215cc_o.jpg  \n",
            "  inflating: corals/train/bleached/4755200300_ef8f226f57_o.jpg  \n",
            "  inflating: corals/train/bleached/4759911119_0a6feca578_o.jpg  \n",
            "  inflating: corals/train/bleached/4767456872_e9c7a580b9_o.jpg  \n",
            "  inflating: corals/train/bleached/4767496646_ef80bd09d9_o.jpg  \n",
            "  inflating: corals/train/bleached/4771280854_37b3cffa23_o.jpg  \n",
            "  inflating: corals/train/bleached/4779169249_6695c013bd_o.jpg  \n",
            "  inflating: corals/train/bleached/4779803318_408d95a815_o.jpg  \n",
            "  inflating: corals/train/bleached/4819583169_106ff643c9_o.jpg  \n",
            "  inflating: corals/train/bleached/4892894895_db7ac36421_o.jpg  \n",
            "  inflating: corals/train/bleached/4937746018_e3163e5279_o.jpg  \n",
            "  inflating: corals/train/bleached/4956663075_0770bf5b87_o.jpg  \n",
            "  inflating: corals/train/bleached/4957295366_001c80efc5_o.jpg  \n",
            "  inflating: corals/train/bleached/4957308250_5111ff6578_o.jpg  \n",
            "  inflating: corals/train/bleached/4959974094_b29988f09b_o.jpg  \n",
            "  inflating: corals/train/bleached/4963809687_dd5d81d6b6_o.jpg  \n",
            "  inflating: corals/train/bleached/4964276472_37e15e68b1_o.jpg  \n",
            "  inflating: corals/train/bleached/4995358229_ccf310e19c_o.jpg  \n",
            "  inflating: corals/train/bleached/5029269095_a326041de2_o.jpg  \n",
            "  inflating: corals/train/bleached/5029971610_0f3d8417d9_o.jpg  \n",
            "  inflating: corals/train/bleached/5095123502_96243e475c_o.jpg  \n",
            "  inflating: corals/train/bleached/5101310001_7885a205a5_o.jpg  \n",
            "  inflating: corals/train/bleached/5101311705_3e5526d521_o.jpg  \n",
            "  inflating: corals/train/bleached/5160419996_ff4ba8452c_o.jpg  \n",
            "  inflating: corals/train/bleached/5160420470_f769032510_o.jpg  \n",
            "  inflating: corals/train/bleached/52850603_e908a7bcc9_o.jpg  \n",
            "  inflating: corals/train/bleached/5302603763_d545181121_o.jpg  \n",
            "  inflating: corals/train/bleached/5318916908_9b56002abb_o.jpg  \n",
            "  inflating: corals/train/bleached/5397335807_989d35218b_o.jpg  \n",
            "  inflating: corals/train/bleached/5397336049_ee59bba5d0_o.jpg  \n",
            "  inflating: corals/train/bleached/5397336137_982875fc1a_o.jpg  \n",
            "  inflating: corals/train/bleached/5397426883_1bc9b131a9_o.jpg  \n",
            "  inflating: corals/train/bleached/5397426965_9cf879ca94_o.jpg  \n",
            "  inflating: corals/train/bleached/5397427225_539d487abe_o.jpg  \n",
            "  inflating: corals/train/bleached/5397427781_6609a2ea38_o.jpg  \n",
            "  inflating: corals/train/bleached/5397934018_c5f215e94d_o.jpg  \n",
            "  inflating: corals/train/bleached/5398026532_570237c1ef_o.jpg  \n",
            "  inflating: corals/train/bleached/5398026994_8e1486aa13_o.jpg  \n",
            "  inflating: corals/train/bleached/5398027082_84000f2f19_o.jpg  \n",
            "  inflating: corals/train/bleached/5398027196_ddb0fc9a1d_o.jpg  \n",
            "  inflating: corals/train/bleached/5398027844_8bc0ca47b0_o.jpg  \n",
            "  inflating: corals/train/bleached/5398028208_a29769f449_o.jpg  \n",
            "  inflating: corals/train/bleached/5476519727_9dbd0c046d_o.jpg  \n",
            "  inflating: corals/train/bleached/5476523991_8f3eebcd91_o.jpg  \n",
            "  inflating: corals/train/bleached/5477123536_d1328ca814_o.jpg  \n",
            "  inflating: corals/train/bleached/5529485045_0e83ba0976_b.jpg  \n",
            "  inflating: corals/train/bleached/5580755283_5c6a5bcb68_o.jpg  \n",
            "  inflating: corals/train/bleached/5581342742_e661bbcc5a_o.jpg  \n",
            "  inflating: corals/train/bleached/5596901319_f953a65c81_o.jpg  \n",
            "  inflating: corals/train/bleached/5597482312_61b4662a32_o.jpg  \n",
            "  inflating: corals/train/bleached/5598103475_db722f2d67_o.jpg  \n",
            "  inflating: corals/train/bleached/5612231712_abda896122_o.jpg  \n",
            "  inflating: corals/train/bleached/5656694075_ccd39bb487_o.jpg  \n",
            "  inflating: corals/train/bleached/5778352075_1fb28c9883_o.jpg  \n",
            "  inflating: corals/train/bleached/5815350035_8f2f1f2511_o.jpg  \n",
            "  inflating: corals/train/bleached/5815918114_9a94837b24_o.jpg  \n",
            "  inflating: corals/train/bleached/5865866366_c2bae5d7e0_o.jpg  \n",
            "  inflating: corals/train/bleached/5974390808_bc0956c2f7_b.jpg  \n",
            "  inflating: corals/train/bleached/5975859265_71954f54a2_o.jpg  \n",
            "  inflating: corals/train/bleached/6070197472_4564469b13_o.jpg  \n",
            "  inflating: corals/train/bleached/6087054999_59b648535d_o.jpg  \n",
            "  inflating: corals/train/bleached/6102472296_547b7bf30c_o.jpg  \n",
            "  inflating: corals/train/bleached/6157774144_25d6386699_o.jpg  \n",
            "  inflating: corals/train/bleached/6207874245_8fac147a7e_b.jpg  \n",
            "  inflating: corals/train/bleached/6255566104_60e386a784_o.jpg  \n",
            "  inflating: corals/train/bleached/6255567194_9a0b30bd07_o.jpg  \n",
            "  inflating: corals/train/bleached/6392167385_f94ecdf733_o.jpg  \n",
            "  inflating: corals/train/bleached/6398049615_c4626706d9_o.jpg  \n",
            "  inflating: corals/train/bleached/6416262147_e65c4e5c31_o.jpg  \n",
            "  inflating: corals/train/bleached/6832379570_3fd4e2757e_o.jpg  \n",
            "  inflating: corals/train/bleached/7008825923_b14bd7829f_o.jpg  \n",
            "  inflating: corals/train/bleached/7133436125_83ecba3a00_o.jpg  \n",
            "  inflating: corals/train/bleached/7173611516_66280e1fda_o.jpg  \n",
            "  inflating: corals/train/bleached/7174750970_0dd3823402_o.jpg  \n",
            "  inflating: corals/train/bleached/7215191230_980c8f0bc4_o.jpg  \n",
            "  inflating: corals/train/bleached/7503256700_b5de29a945_b.jpg  \n",
            "  inflating: corals/train/bleached/7634353180_ec521079cd_o.jpg  \n",
            "  inflating: corals/train/bleached/7660571558_cb14bee7a5_o.jpg  \n",
            "  inflating: corals/train/bleached/7704806928_d795ba19a9_o.jpg  \n",
            "  inflating: corals/train/bleached/7722030932_048e6f76d1_b.jpg  \n",
            "  inflating: corals/train/bleached/7722031606_06142cc386_b.jpg  \n",
            "  inflating: corals/train/bleached/7755589630_4b268c72ac_o.jpg  \n",
            "  inflating: corals/train/bleached/7856370224_db8e94d246_o.jpg  \n",
            "  inflating: corals/train/bleached/8051294849_65bacafde8_o.jpg  \n",
            "  inflating: corals/train/bleached/8051295265_22ce0d102e_o.jpg  \n",
            "  inflating: corals/train/bleached/8051298662_3d04161c19_o.jpg  \n",
            "  inflating: corals/train/bleached/8133408506_18a3cb9302_b.jpg  \n",
            "  inflating: corals/train/bleached/8191881180_cf63529ebb_o.jpg  \n",
            "  inflating: corals/train/bleached/8198694405_086ee9d5c0_o.jpg  \n",
            "  inflating: corals/train/bleached/8198703539_ef96ff2930_o.jpg  \n",
            "  inflating: corals/train/bleached/8199768672_5540db83f4_o.jpg  \n",
            "  inflating: corals/train/bleached/8296827679_8ecf78eedd_b.jpg  \n",
            "  inflating: corals/train/bleached/8424234521_3346e821dc_o.jpg  \n",
            "  inflating: corals/train/bleached/8467854527_e770edea2d_o.jpg  \n",
            "  inflating: corals/train/bleached/8467855469_1f437654b7_o.jpg  \n",
            "  inflating: corals/train/bleached/8514121744_567b5db215_o.jpg  \n",
            "  inflating: corals/train/bleached/8676846425_564fd10355_o.jpg  \n",
            "  inflating: corals/train/bleached/8676905059_ce9b29a335_o.jpg  \n",
            "  inflating: corals/train/bleached/8676908467_a3f5de6ba5_o.jpg  \n",
            "  inflating: corals/train/bleached/8676918397_9d924dcf1e_o.jpg  \n",
            "  inflating: corals/train/bleached/8677946826_be2f953cb0_o.jpg  \n",
            "  inflating: corals/train/bleached/8677989402_b5b5c62a00_o.jpg  \n",
            "  inflating: corals/train/bleached/8678002474_1200606639_o.jpg  \n",
            "  inflating: corals/train/bleached/8721480031_4e1b1939b1_o.jpg  \n",
            "  inflating: corals/train/bleached/8727059131_e260ae0f2d_o.jpg  \n",
            "  inflating: corals/train/bleached/8727066599_446006418d_o.jpg  \n",
            "  inflating: corals/train/bleached/8727070277_6f0b470667_o.jpg  \n",
            "  inflating: corals/train/bleached/8727090033_c3b2073e44_o.jpg  \n",
            "  inflating: corals/train/bleached/8727104771_c59eeb1180_o.jpg  \n",
            "  inflating: corals/train/bleached/8727148303_17d591e0a6_o.jpg  \n",
            "  inflating: corals/train/bleached/8727216555_4686cec662_o.jpg  \n",
            "  inflating: corals/train/bleached/8728204090_1ebb8e8d9f_o.jpg  \n",
            "  inflating: corals/train/bleached/8728216016_7196b0bb2b_o.jpg  \n",
            "  inflating: corals/train/bleached/8728234194_f8a133de23_o.jpg  \n",
            "  inflating: corals/train/bleached/8728295760_44aeb65001_o.jpg  \n",
            "  inflating: corals/train/bleached/8728318610_32e8cc57f5_o.jpg  \n",
            "  inflating: corals/train/bleached/8728339648_d2be03bbc6_o.jpg  \n",
            "  inflating: corals/train/bleached/8728344094_936eae9c92_o.jpg  \n",
            "  inflating: corals/train/bleached/876246000_b90c98b818_o.jpg  \n",
            "  inflating: corals/train/bleached/9210965509_def9fcdaa9_o.jpg  \n",
            "  inflating: corals/train/bleached/9211027651_d366cd346b_o.jpg  \n",
            "  inflating: corals/train/bleached/9211069421_64421481ed_o.jpg  \n",
            "  inflating: corals/train/bleached/9211129419_2ca182822e_o.jpg  \n",
            "  inflating: corals/train/bleached/9214016858_d7e7930601_o.jpg  \n",
            "  inflating: corals/train/bleached/9312549083_7e8afa3e10_o.jpg  \n",
            "  inflating: corals/train/bleached/9399125405_a3672a192f_o.jpg  \n",
            "  inflating: corals/train/bleached/9406240021_a65af0d829_o.jpg  \n",
            "  inflating: corals/train/bleached/9411103659_88528f55ca_o.jpg  \n",
            "  inflating: corals/train/bleached/9499958430_ff6b1cba94_o.jpg  \n",
            "  inflating: corals/train/bleached/9507884172_20ee003055_o.jpg  \n",
            "  inflating: corals/train/bleached/9670495054_392fa34907_o.jpg  \n",
            "  inflating: corals/train/healthy/1007788673_ced6bb5451_o.jpg  \n",
            "  inflating: corals/train/healthy/10160888014_be7c71167c_o.jpg  \n",
            "  inflating: corals/train/healthy/10446647406_2e48bd2103_o.jpg  \n",
            "  inflating: corals/train/healthy/10472657773_a08f5c73a1_o.jpg  \n",
            "  inflating: corals/train/healthy/10479719064_929fa60800_o.jpg  \n",
            "  inflating: corals/train/healthy/10493371746_61da3099a1_o.jpg  \n",
            "  inflating: corals/train/healthy/10493549203_b71d6746b0_o.jpg  \n",
            "  inflating: corals/train/healthy/10493583423_65c6ddfc38_o.jpg  \n",
            "  inflating: corals/train/healthy/10493584423_d1cebfd4dd_o.jpg  \n",
            "  inflating: corals/train/healthy/1063594275_418daec726_b.jpg  \n",
            "  inflating: corals/train/healthy/1069324577_97beed8753_b.jpg  \n",
            "  inflating: corals/train/healthy/10829442286_2f4c92499a_o.jpg  \n",
            "  inflating: corals/train/healthy/11127107015_fee1d4a2ab_b.jpg  \n",
            "  inflating: corals/train/healthy/11145406535_6de10d01b8_b.jpg  \n",
            "  inflating: corals/train/healthy/11181998026_8f80828375_o.jpg  \n",
            "  inflating: corals/train/healthy/11246578233_7ed3c3ac60_b.jpg  \n",
            "  inflating: corals/train/healthy/11335716606_517eb63e0d_b.jpg  \n",
            "  inflating: corals/train/healthy/11386829083_24acdc937a_b.jpg  \n",
            "  inflating: corals/train/healthy/11976476874_e416f226c4_b.jpg  \n",
            "  inflating: corals/train/healthy/12019719063_12524d6d79_b.jpg  \n",
            "  inflating: corals/train/healthy/12204692224_d916847478_b.jpg  \n",
            "  inflating: corals/train/healthy/12337435893_f2f44ea3f1_o.jpg  \n",
            "  inflating: corals/train/healthy/12440017704_068016572a_o.jpg  \n",
            "  inflating: corals/train/healthy/12447280983_8f222ea0ec_b.jpg  \n",
            "  inflating: corals/train/healthy/12585421735_ebb6521075_o.jpg  \n",
            "  inflating: corals/train/healthy/12618485353_670ca1b648_o.jpg  \n",
            "  inflating: corals/train/healthy/12678410645_623fc2f1d0_b.jpg  \n",
            "  inflating: corals/train/healthy/12678935155_4e7f99b5bf_b.jpg  \n",
            "  inflating: corals/train/healthy/12969214845_56a70bcec4_b.jpg  \n",
            "  inflating: corals/train/healthy/13117980675_d7ec7ab75d_o.jpg  \n",
            "  inflating: corals/train/healthy/13303462573_a101a071be_b.jpg  \n",
            "  inflating: corals/train/healthy/13398172963_d6ed9ff9af_o.jpg  \n",
            "  inflating: corals/train/healthy/1347803447_4834a50509_o.jpg  \n",
            "  inflating: corals/train/healthy/13515185693_48853b32a0_b.jpg  \n",
            "  inflating: corals/train/healthy/13690780405_4178b502e1_b.jpg  \n",
            "  inflating: corals/train/healthy/13984949252_b23f0816b6_o.jpg  \n",
            "  inflating: corals/train/healthy/13988162295_c08e9d6675_o.jpg  \n",
            "  inflating: corals/train/healthy/14127677210_f7c20e3f90_o.jpg  \n",
            "  inflating: corals/train/healthy/14226066883_218d2fd5f8_b.jpg  \n",
            "  inflating: corals/train/healthy/14275733527_538cc8ddb6_o.jpg  \n",
            "  inflating: corals/train/healthy/14312866006_6e769f13f7_b.jpg  \n",
            "  inflating: corals/train/healthy/14318242634_fce485d3fc_b.jpg  \n",
            "  inflating: corals/train/healthy/14376372646_1a2a705ded_b.jpg  \n",
            "  inflating: corals/train/healthy/14470460565_6f6145898b_b.jpg  \n",
            "  inflating: corals/train/healthy/14566453643_7b6a2fd10a_b.jpg  \n",
            "  inflating: corals/train/healthy/15047039759_621db18fb1_b.jpg  \n",
            "  inflating: corals/train/healthy/15048257100_618327846f_b.jpg  \n",
            "  inflating: corals/train/healthy/15076860645_b421e2fbe4_o.jpg  \n",
            "  inflating: corals/train/healthy/15198257869_084c9c0d3e_o.jpg  \n",
            "  inflating: corals/train/healthy/15205726294_9e94c07367_o.jpg  \n",
            "  inflating: corals/train/healthy/1521595499_5eff4d6429_o.jpg  \n",
            "  inflating: corals/train/healthy/15231854301_195929c060_b.jpg  \n",
            "  inflating: corals/train/healthy/15300002287_dcc848f4bc_b.jpg  \n",
            "  inflating: corals/train/healthy/15396138413_deb8e78193_o.jpg  \n",
            "  inflating: corals/train/healthy/15628206449_7565dbb88d_o.jpg  \n",
            "  inflating: corals/train/healthy/15630580403_d03ba4726b_b.jpg  \n",
            "  inflating: corals/train/healthy/15750057575_1831a6e69e_o.jpg  \n",
            "  inflating: corals/train/healthy/15801689118_e036063c42_b.jpg  \n",
            "  inflating: corals/train/healthy/15801818570_08c6f959de_b.jpg  \n",
            "  inflating: corals/train/healthy/15803342287_57bed1e821_b.jpg  \n",
            "  inflating: corals/train/healthy/15988368792_0e420b609e_b.jpg  \n",
            "  inflating: corals/train/healthy/15988378472_510fff0b80_b.jpg  \n",
            "  inflating: corals/train/healthy/15989047435_00921238ff_b.jpg  \n",
            "  inflating: corals/train/healthy/15989070145_fa6bf493a8_b.jpg  \n",
            "  inflating: corals/train/healthy/16247095909_deb58fc907_b.jpg  \n",
            "  inflating: corals/train/healthy/16281349881_9dc9651ca9_b.jpg  \n",
            "  inflating: corals/train/healthy/16471779011_73c0556a27_b.jpg  \n",
            "  inflating: corals/train/healthy/16491749336_f1faed4801_o.jpg  \n",
            "  inflating: corals/train/healthy/16653573118_0174589d8f_b.jpg  \n",
            "  inflating: corals/train/healthy/1684718438_49ecc148b2_o.jpg  \n",
            "  inflating: corals/train/healthy/16904174205_e13633f402_b.jpg  \n",
            "  inflating: corals/train/healthy/16937078092_4e1cc772b0_o.jpg  \n",
            "  inflating: corals/train/healthy/17053769227_fe8a89433a_b.jpg  \n",
            "  inflating: corals/train/healthy/17086705870_d07b2a335f_b.jpg  \n",
            "  inflating: corals/train/healthy/17966246223_50f9c29f65_o.jpg  \n",
            "  inflating: corals/train/healthy/189518468_76ff603ccc_b.jpg  \n",
            "  inflating: corals/train/healthy/19692855118_6c7a8bf495_o.jpg  \n",
            "  inflating: corals/train/healthy/1972126685_51f5d5b825_o.jpg  \n",
            "  inflating: corals/train/healthy/19879911213_a1dde029c3_o.jpg  \n",
            "  inflating: corals/train/healthy/19880923365_a155d65d2a_o.jpg  \n",
            "  inflating: corals/train/healthy/20169787116_0760572869_b.jpg  \n",
            "  inflating: corals/train/healthy/20260886321_565b135745_o.jpg  \n",
            "  inflating: corals/train/healthy/20312733630_6f92f3f776_o.jpg  \n",
            "  inflating: corals/train/healthy/2067197055_7129349757_o.jpg  \n",
            "  inflating: corals/train/healthy/2153405539_1748371f99_o.jpg  \n",
            "  inflating: corals/train/healthy/2171646290_99cf9c0913_b.jpg  \n",
            "  inflating: corals/train/healthy/2171646346_3ddc5d01a8_b.jpg  \n",
            "  inflating: corals/train/healthy/22452237124_d8c33b3a18_o.jpg  \n",
            "  inflating: corals/train/healthy/226053010_ac0440a0fb_b.jpg  \n",
            "  inflating: corals/train/healthy/22667391159_23d0fbc8a7_o.jpg  \n",
            "  inflating: corals/train/healthy/22682754679_7095240f2f_o.jpg  \n",
            "  inflating: corals/train/healthy/22830860377_4c0d05e5fe_b.jpg  \n",
            "  inflating: corals/train/healthy/2306125427_0f0126ee53_b.jpg  \n",
            "  inflating: corals/train/healthy/23075042305_6a524cff4c_o.jpg  \n",
            "  inflating: corals/train/healthy/23429997743_cc192b21e1_o.jpg  \n",
            "  inflating: corals/train/healthy/23502324115_e23457356b_b.jpg  \n",
            "  inflating: corals/train/healthy/23540596013_f1c0f73646_o.jpg  \n",
            "  inflating: corals/train/healthy/2361452424_8307b3af8a_b.jpg  \n",
            "  inflating: corals/train/healthy/23614944792_fecf9b26c4_b.jpg  \n",
            "  inflating: corals/train/healthy/23632448078_9e2b0a29cd_b.jpg  \n",
            "  inflating: corals/train/healthy/2374316888_c6de9b2138_o.jpg  \n",
            "  inflating: corals/train/healthy/23787881938_a0228c1e06_o.jpg  \n",
            "  inflating: corals/train/healthy/23885424111_ec52086cbc_o.jpg  \n",
            "  inflating: corals/train/healthy/24056773005_70743784b6_o.jpg  \n",
            "  inflating: corals/train/healthy/2421245119_e93e061d74_b.jpg  \n",
            "  inflating: corals/train/healthy/24341875049_3cc7febf0f_o.jpg  \n",
            "  inflating: corals/train/healthy/24591750222_3423329a3a_o.jpg  \n",
            "  inflating: corals/train/healthy/2520362848_d8832f50ee_o.jpg  \n",
            "  inflating: corals/train/healthy/25274385023_1b8a231d5d_o.jpg  \n",
            "  inflating: corals/train/healthy/2532808795_a3deed5cca_b.jpg  \n",
            "  inflating: corals/train/healthy/2568080532_2bd063709a_o.jpg  \n",
            "  inflating: corals/train/healthy/258220654_d6a0f5c943_b.jpg  \n",
            "  inflating: corals/train/healthy/258220700_57a6934c82_o.jpg  \n",
            "  inflating: corals/train/healthy/26152550073_2e5e4b9275_b.jpg  \n",
            "  inflating: corals/train/healthy/26199762804_0c6f332703_b.jpg  \n",
            "  inflating: corals/train/healthy/26367556228_341a4d40dc_o.jpg  \n",
            "  inflating: corals/train/healthy/26376778479_a8b1daa375_b.jpg  \n",
            "  inflating: corals/train/healthy/26393702680_ef78351224_o.jpg  \n",
            "  inflating: corals/train/healthy/26393704790_c28f7d0ea5_o.jpg  \n",
            "  inflating: corals/train/healthy/26436586198_2c7a15b7ff_b.jpg  \n",
            "  inflating: corals/train/healthy/26522921909_cb37cea0ef_b.jpg  \n",
            "  inflating: corals/train/healthy/26549013619_7329a98baa_b.jpg  \n",
            "  inflating: corals/train/healthy/26796189236_250afb2ae6_o.jpg  \n",
            "  inflating: corals/train/healthy/26922708231_80054910b6_o.jpg  \n",
            "  inflating: corals/train/healthy/2695636243_11a6454cec_b.jpg  \n",
            "  inflating: corals/train/healthy/27255427184_bd1c03fbd8_b.jpg  \n",
            "  inflating: corals/train/healthy/27473012532_c1f88662bc_b.jpg  \n",
            "  inflating: corals/train/healthy/27490998752_20fca54cf1_b.jpg  \n",
            "  inflating: corals/train/healthy/27871063557_618b70f5e6_o.jpg  \n",
            "  inflating: corals/train/healthy/2802513078_15f2bfac7f_o.jpg  \n",
            "  inflating: corals/train/healthy/2828810220_c511bb0783_b.jpg  \n",
            "  inflating: corals/train/healthy/2839037323_a2e2eccc93_b.jpg  \n",
            "  inflating: corals/train/healthy/28733386921_7185a0ce26_b.jpg  \n",
            "  inflating: corals/train/healthy/28866711638_4f7236227c_o.jpg  \n",
            "  inflating: corals/train/healthy/28866721468_7e933f1a55_o.jpg  \n",
            "  inflating: corals/train/healthy/2888971420_acab6bcd02_o.jpg  \n",
            "  inflating: corals/train/healthy/29248045310_893cd3c116_b.jpg  \n",
            "  inflating: corals/train/healthy/29441128048_8b0fd78bb5_b.jpg  \n",
            "  inflating: corals/train/healthy/29600393725_95d3751c2c_b.jpg  \n",
            "  inflating: corals/train/healthy/29867276807_60bb16bcf0_o.jpg  \n",
            "  inflating: corals/train/healthy/30252502637_3e066a8790_b.jpg  \n",
            "  inflating: corals/train/healthy/31541043258_ecc9988507_b.jpg  \n",
            "  inflating: corals/train/healthy/31666952395_fcfcf9b079_o.jpg  \n",
            "  inflating: corals/train/healthy/32093908242_e5fcc65ffa_o.jpg  \n",
            "  inflating: corals/train/healthy/3211732015_22a764ec04_o.jpg  \n",
            "  inflating: corals/train/healthy/32502137935_04fb17b9ef_b.jpg  \n",
            "  inflating: corals/train/healthy/32512434404_0b52a0083f_o.jpg  \n",
            "  inflating: corals/train/healthy/3283358041_57a98063bb_o.jpg  \n",
            "  inflating: corals/train/healthy/33014785505_8113a97075_o.jpg  \n",
            "  inflating: corals/train/healthy/33276578038_4d120e8776_b.jpg  \n",
            "  inflating: corals/train/healthy/3377813885_e39c40af0b_b.jpg  \n",
            "  inflating: corals/train/healthy/33812433714_0222a0719e_o.jpg  \n",
            "  inflating: corals/train/healthy/33812437684_38ecc57d2f_o.jpg  \n",
            "  inflating: corals/train/healthy/33812442424_d050b8146e_o.jpg  \n",
            "  inflating: corals/train/healthy/33812446754_5127219ea9_o.jpg  \n",
            "  inflating: corals/train/healthy/33872791628_d3fd01a2c3_o.jpg  \n",
            "  inflating: corals/train/healthy/3410650980_f13539931c_o.jpg  \n",
            "  inflating: corals/train/healthy/34524373301_1597f6cc2b_o.jpg  \n",
            "  inflating: corals/train/healthy/351293241_cdb1f7f38f_b.jpg  \n",
            "  inflating: corals/train/healthy/3524507709_bac8fccaac_b.jpg  \n",
            "  inflating: corals/train/healthy/35788003732_de0a0a6f2b_o.jpg  \n",
            "  inflating: corals/train/healthy/35917103046_e2b72bcaaf_o.jpg  \n",
            "  inflating: corals/train/healthy/3618532552_c355cbc853_b.jpg  \n",
            "  inflating: corals/train/healthy/36266669900_10dac21f27_o.jpg  \n",
            "  inflating: corals/train/healthy/36854204063_5dd6519245_b.jpg  \n",
            "  inflating: corals/train/healthy/371626233_43ede84287_b.jpg  \n",
            "  inflating: corals/train/healthy/37564920810_6ecd16a608_b.jpg  \n",
            "  inflating: corals/train/healthy/37634336620_fc84bb2dda_b.jpg  \n",
            "  inflating: corals/train/healthy/38060480122_34ebf5710d_b.jpg  \n",
            "  inflating: corals/train/healthy/38197101852_f8462f5876_b.jpg  \n",
            "  inflating: corals/train/healthy/38362661586_2953f083a3_o.jpg  \n",
            "  inflating: corals/train/healthy/38498617791_03094be472_b.jpg  \n",
            "  inflating: corals/train/healthy/385106222_dbfae0c638_o.jpg  \n",
            "  inflating: corals/train/healthy/385969545_2b38ae950c_b.jpg  \n",
            "  inflating: corals/train/healthy/385978976_35cb8133d4_b.jpg  \n",
            "  inflating: corals/train/healthy/38662947541_c1f92f20e3_o.jpg  \n",
            "  inflating: corals/train/healthy/38695348280_e22c71103b_b.jpg  \n",
            "  inflating: corals/train/healthy/3876094237_8e4f133888_o.jpg  \n",
            "  inflating: corals/train/healthy/3884349622_94e151090e_o.jpg  \n",
            "  inflating: corals/train/healthy/39088184612_3082e80363_b.jpg  \n",
            "  inflating: corals/train/healthy/39150889115_95ba1652b3_b.jpg  \n",
            "  inflating: corals/train/healthy/39182360692_5a9f2ccd82_b.jpg  \n",
            "  inflating: corals/train/healthy/39209971264_6a1b377511_b.jpg  \n",
            "  inflating: corals/train/healthy/3926479603_77eaa018f3_b.jpg  \n",
            "  inflating: corals/train/healthy/3927259688_f3aba15d93_b.jpg  \n",
            "  inflating: corals/train/healthy/3927261110_ee236bde50_b.jpg  \n",
            "  inflating: corals/train/healthy/39700635665_cbb9734591_b.jpg  \n",
            "  inflating: corals/train/healthy/39809603602_bfc40c1f27_b.jpg  \n",
            "  inflating: corals/train/healthy/39826517352_cd031d0296_o.jpg  \n",
            "  inflating: corals/train/healthy/39938923285_bffab6b7e8_b.jpg  \n",
            "  inflating: corals/train/healthy/40185009471_b684d3a737_o.jpg  \n",
            "  inflating: corals/train/healthy/40185808611_fd06bb6ab1_o.jpg  \n",
            "  inflating: corals/train/healthy/40366279442_20884ab357_b.jpg  \n",
            "  inflating: corals/train/healthy/40385622723_a83740e323_o.jpg  \n",
            "  inflating: corals/train/healthy/40522587252_9e57cb7843_b.jpg  \n",
            "  inflating: corals/train/healthy/4082784087_fef7dfc75c_o.jpg  \n",
            "  inflating: corals/train/healthy/41019416742_f231d0b5c9_b.jpg  \n",
            "  inflating: corals/train/healthy/41361472770_73046a8f47_b.jpg  \n",
            "  inflating: corals/train/healthy/41377537672_dd44ffab3e_b.jpg  \n",
            "  inflating: corals/train/healthy/41419965174_99109b3ff1_b.jpg  \n",
            "  inflating: corals/train/healthy/4143552479_ea84d31442_o.jpg  \n",
            "  inflating: corals/train/healthy/41439807044_d73d8b1802_b.jpg  \n",
            "  inflating: corals/train/healthy/41488427102_cc887db9ee_b.jpg  \n",
            "  inflating: corals/train/healthy/41963669802_1507b37b03_b.jpg  \n",
            "  inflating: corals/train/healthy/42494890501_97b79fe2e9_b.jpg  \n",
            "  inflating: corals/train/healthy/4258299467_2161337db1_o.jpg  \n",
            "  inflating: corals/train/healthy/42740094031_0f4e8b899e_o.jpg  \n",
            "  inflating: corals/train/healthy/42740096541_84aca93b88_o.jpg  \n",
            "  inflating: corals/train/healthy/4293664201_112d4c26ea_o.jpg  \n",
            "  inflating: corals/train/healthy/4293664935_3c015f2c4c_o.jpg  \n",
            "  inflating: corals/train/healthy/4294405692_4e18a07a57_o.jpg  \n",
            "  inflating: corals/train/healthy/43073319610_545ccba15b_b.jpg  \n",
            "  inflating: corals/train/healthy/4312533708_bd97b59cbe_o.jpg  \n",
            "  inflating: corals/train/healthy/4312534308_dcd0816fb3_o.jpg  \n",
            "  inflating: corals/train/healthy/43150316981_59f9f193b4_o.jpg  \n",
            "  inflating: corals/train/healthy/4326777539_0c53ec3f83_b.jpg  \n",
            "  inflating: corals/train/healthy/4389751172_034773e68b_b.jpg  \n",
            "  inflating: corals/train/healthy/44044291864_7c29c019d3_b.jpg  \n",
            "  inflating: corals/train/healthy/4413121542_0267145b10_o.jpg  \n",
            "  inflating: corals/train/healthy/44569022405_7b05d8b616_b.jpg  \n",
            "  inflating: corals/train/healthy/44803677751_f984c0e2a3_o.jpg  \n",
            "  inflating: corals/train/healthy/4569334953_e0c5be0267_o.jpg  \n",
            "  inflating: corals/train/healthy/45822186001_e6a3c0c7a4_o.jpg  \n",
            "  inflating: corals/train/healthy/4595772766_9d1ba4e72d_b.jpg  \n",
            "  inflating: corals/train/healthy/46237746095_37b6513496_b.jpg  \n",
            "  inflating: corals/train/healthy/4635621107_c777dd8895_o.jpg  \n",
            "  inflating: corals/train/healthy/46896201665_5f277e582b_o.jpg  \n",
            "  inflating: corals/train/healthy/46896204665_1929ced70a_o.jpg  \n",
            "  inflating: corals/train/healthy/469499083_0b873706f2_o.jpg  \n",
            "  inflating: corals/train/healthy/47812521491_4501f94f1a_o.jpg  \n",
            "  inflating: corals/train/healthy/47812522351_2fba5f0178_o.jpg  \n",
            "  inflating: corals/train/healthy/4786967067_bea7d048f2_o.jpg  \n",
            "  inflating: corals/train/healthy/4809459124_708941e85e_o.jpg  \n",
            "  inflating: corals/train/healthy/4843892336_9b9b02d591_b.jpg  \n",
            "  inflating: corals/train/healthy/4853353552_662e2aed21_o.jpg  \n",
            "  inflating: corals/train/healthy/4862513133_173f51ea63_o.jpg  \n",
            "  inflating: corals/train/healthy/4978266205_413139655a_o.jpg  \n",
            "  inflating: corals/train/healthy/4997819967_364d2bfd89_o.jpg  \n",
            "  inflating: corals/train/healthy/5015048052_609d44ca9c_o.jpg  \n",
            "  inflating: corals/train/healthy/5085093671_24b11f07d5_o.jpg  \n",
            "  inflating: corals/train/healthy/5161484142_8cb5690157_b.jpg  \n",
            "  inflating: corals/train/healthy/5189042966_a2e4bfa7af_o.jpg  \n",
            "  inflating: corals/train/healthy/5229595468_c41acc84e2_o.jpg  \n",
            "  inflating: corals/train/healthy/5236473213_5bec373a9b_o.jpg  \n",
            "  inflating: corals/train/healthy/5280498809_2a79ef7674_o.jpg  \n",
            "  inflating: corals/train/healthy/5280533169_15fc94c031_o.jpg  \n",
            "  inflating: corals/train/healthy/5280704949_d08a39a7fe_o.jpg  \n",
            "  inflating: corals/train/healthy/5281070226_2086955fdf_o.jpg  \n",
            "  inflating: corals/train/healthy/5418510042_e7eecef7cf_b.jpg  \n",
            "  inflating: corals/train/healthy/5438478599_55ff088cb7_o.jpg  \n",
            "  inflating: corals/train/healthy/5521000612_e98e5aa6f8_o.jpg  \n",
            "  inflating: corals/train/healthy/5599820830_d11528f073_o.jpg  \n",
            "  inflating: corals/train/healthy/5618013486_d27989889b_o.jpg  \n",
            "  inflating: corals/train/healthy/5627678188_0b41de73e4_b.jpg  \n",
            "  inflating: corals/train/healthy/5640587328_dda3310b1b_o.jpg  \n",
            "  inflating: corals/train/healthy/5644726283_36f3f6ef81_o.jpg  \n",
            "  inflating: corals/train/healthy/5645313974_be896732ac_o.jpg  \n",
            "  inflating: corals/train/healthy/5737445273_47eb32094f_o.jpg  \n",
            "  inflating: corals/train/healthy/5737703759_588d757698_o.jpg  \n",
            "  inflating: corals/train/healthy/5737954148_cf4e6fa0c0_o.jpg  \n",
            "  inflating: corals/train/healthy/5738156571_3bf772486c_o.jpg  \n",
            "  inflating: corals/train/healthy/5739952458_2f2ac24793_b.jpg  \n",
            "  inflating: corals/train/healthy/5812205239_e5c4047a9b_o.jpg  \n",
            "  inflating: corals/train/healthy/5852430779_3ac2e828c2_o.jpg  \n",
            "  inflating: corals/train/healthy/5896332015_2d26269832_b.jpg  \n",
            "  inflating: corals/train/healthy/5942617275_de0ee79729_o.jpg  \n",
            "  inflating: corals/train/healthy/5950870236_64af74c06d_o.jpg  \n",
            "  inflating: corals/train/healthy/6064175117_8c31f1fab0_o.jpg  \n",
            "  inflating: corals/train/healthy/6064723340_458d304cc0_o.jpg  \n",
            "  inflating: corals/train/healthy/6099267701_f67dd74f07_b.jpg  \n",
            "  inflating: corals/train/healthy/6128743682_115e73108e_o.jpg  \n",
            "  inflating: corals/train/healthy/6146958411_e1ee6280f0_b.jpg  \n",
            "  inflating: corals/train/healthy/6152696118_8ff1861877_b.jpg  \n",
            "  inflating: corals/train/healthy/6198055206_ccc4d335aa_b.jpg  \n",
            "  inflating: corals/train/healthy/6206969002_23982810ee_b.jpg  \n",
            "  inflating: corals/train/healthy/6244010032_f171cce5b1_o.jpg  \n",
            "  inflating: corals/train/healthy/6244081524_b8e1b32fa9_o.jpg  \n",
            "  inflating: corals/train/healthy/6322630145_57c69d8e1a_b.jpg  \n",
            "  inflating: corals/train/healthy/6339509538_3c8e81b525_o.jpg  \n",
            "  inflating: corals/train/healthy/6349794433_7656b74bac_b.jpg  \n",
            "  inflating: corals/train/healthy/6392167329_484ab2cfa4_o.jpg  \n",
            "  inflating: corals/train/healthy/6392215725_c5423df58c_o.jpg  \n",
            "  inflating: corals/train/healthy/6392432031_0f3661dc03_o.jpg  \n",
            "  inflating: corals/train/healthy/6392772527_0b5fff1059_o.jpg  \n",
            "  inflating: corals/train/healthy/6392782651_d691056a89_o.jpg  \n",
            "  inflating: corals/train/healthy/6392798937_94f6d25dd9_o.jpg  \n",
            "  inflating: corals/train/healthy/6392922683_52b1c97238_o.jpg  \n",
            "  inflating: corals/train/healthy/6398197229_afab7194b7_o.jpg  \n",
            "  inflating: corals/train/healthy/6416024503_607f856afc_o.jpg  \n",
            "  inflating: corals/train/healthy/6416177627_3fdcee9624_o.jpg  \n",
            "  inflating: corals/train/healthy/6416341793_cb813b3982_o.jpg  \n",
            "  inflating: corals/train/healthy/6416594393_75240b319f_o.jpg  \n",
            "  inflating: corals/train/healthy/6783803016_81fc5c10bc_o.jpg  \n",
            "  inflating: corals/train/healthy/6801006834_9742397847_o.jpg  \n",
            "  inflating: corals/train/healthy/6822512557_65c772e3d5_b.jpg  \n",
            "  inflating: corals/train/healthy/6824377678_58621c4f7b_o.jpg  \n",
            "  inflating: corals/train/healthy/6944601354_a967da0e3c_o.jpg  \n",
            "  inflating: corals/train/healthy/7006760766_7022c39e4d_b.jpg  \n",
            "  inflating: corals/train/healthy/7016193851_c8203ff419_o.jpg  \n",
            "  inflating: corals/train/healthy/7152050767_96506223da_b.jpg  \n",
            "  inflating: corals/train/healthy/7171235475_d2565c7dd9_b.jpg  \n",
            "  inflating: corals/train/healthy/7174136896_96817e8eaa_o.jpg  \n",
            "  inflating: corals/train/healthy/7183712189_c098189edf_b.jpg  \n",
            "  inflating: corals/train/healthy/7276689024_e85850b828_o.jpg  \n",
            "  inflating: corals/train/healthy/7304240268_79155673ea_o.jpg  \n",
            "  inflating: corals/train/healthy/7344648314_ebdcbf0331_b.jpg  \n",
            "  inflating: corals/train/healthy/7356450624_0089468407_b.jpg  \n",
            "  inflating: corals/train/healthy/7356451208_bf9218c57c_b.jpg  \n",
            "  inflating: corals/train/healthy/7368133328_6081a1e06c_b.jpg  \n",
            "  inflating: corals/train/healthy/7465120086_e31e1c3a1e_o.jpg  \n",
            "  inflating: corals/train/healthy/7492813290_67fe8587df_o.jpg  \n",
            "  inflating: corals/train/healthy/7653964088_cd4b425a2f_o.jpg  \n",
            "  inflating: corals/train/healthy/7691994886_98385c4288_o.jpg  \n",
            "  inflating: corals/train/healthy/7890651910_d1542b855d_o.jpg  \n",
            "  inflating: corals/train/healthy/7997825012_165e83bde4_o.jpg  \n",
            "  inflating: corals/train/healthy/8010345006_71ea193b74_o.jpg  \n",
            "  inflating: corals/train/healthy/8038946571_2852135e14_b.jpg  \n",
            "  inflating: corals/train/healthy/8046848389_b41fa65b94_b.jpg  \n",
            "  inflating: corals/train/healthy/8093146682_13ed785e03_b.jpg  \n",
            "  inflating: corals/train/healthy/8127016951_d15419e3c8_o.jpg  \n",
            "  inflating: corals/train/healthy/8142339398_638101c032_o.jpg  \n",
            "  inflating: corals/train/healthy/8191881180_cf63529ebb_o.jpg  \n",
            "  inflating: corals/train/healthy/8294412702_edaf04ef7b_b.jpg  \n",
            "  inflating: corals/train/healthy/8321496805_cf4350f8ac_b.jpg  \n",
            "  inflating: corals/train/healthy/8322554906_0df6647328_b.jpg  \n",
            "  inflating: corals/train/healthy/8357138741_906006f5d2_b.jpg  \n",
            "  inflating: corals/train/healthy/8358200706_9d8b0034d7_b.jpg  \n",
            "  inflating: corals/train/healthy/8413785183_856716732c_o.jpg  \n",
            "  inflating: corals/train/healthy/8467855469_1f437654b7_o.jpg  \n",
            "  inflating: corals/train/healthy/8467855675_7670407af9_o.jpg  \n",
            "  inflating: corals/train/healthy/8468948736_cd24c03459_o.jpg  \n",
            "  inflating: corals/train/healthy/847115147_17aafa5859_b.jpg  \n",
            "  inflating: corals/train/healthy/8582807602_a4810feecc_b.jpg  \n",
            "  inflating: corals/train/healthy/8676198199_4821cc1113_b.jpg  \n",
            "  inflating: corals/train/healthy/8727971592_8cac437e71_b.jpg  \n",
            "  inflating: corals/train/healthy/8752583977_9a9dd84078_b.jpg  \n",
            "  inflating: corals/train/healthy/8913692138_782080c6e4_b.jpg  \n",
            "  inflating: corals/train/healthy/9091340085_044a64fe22_o.jpg  \n",
            "  inflating: corals/train/healthy/9329943057_39a3c3977f_o.jpg  \n",
            "  inflating: corals/train/healthy/9329967925_dd6a659991_o.jpg  \n",
            "  inflating: corals/train/healthy/9329977667_80aaa95748_o.jpg  \n",
            "  inflating: corals/train/healthy/9330020561_fdf140acf8_o.jpg  \n",
            "  inflating: corals/train/healthy/9332737666_4bf65fa9a8_o.jpg  \n",
            "  inflating: corals/train/healthy/9332741280_71faea8c6f_o.jpg  \n",
            "  inflating: corals/train/healthy/9332751514_34288a96ee_o.jpg  \n",
            "  inflating: corals/train/healthy/9332754818_8a3a455964_o.jpg  \n",
            "  inflating: corals/train/healthy/9332760884_95a911dd74_o.jpg  \n",
            "  inflating: corals/train/healthy/9332768994_299b9bcd17_o.jpg  \n",
            "  inflating: corals/train/healthy/9332798782_b3ca951eab_o.jpg  \n",
            "  inflating: corals/train/healthy/9340174435_089eeb2c63_o.jpg  \n",
            "  inflating: corals/train/healthy/9359755544_a953c819c0_o.jpg  \n",
            "  inflating: corals/train/healthy/9441941228_88f378a97c_o.jpg  \n",
            "  inflating: corals/train/healthy/9511909153_ea27e2ec63_o.jpg  \n",
            "  inflating: corals/train/healthy/9540282147_2006ddfd43_b.jpg  \n",
            "  inflating: corals/train/healthy/9709957059_bd6a0f93ca_o.jpg  \n",
            "  inflating: corals/train/healthy/9788855913_8ae00c777f_o.jpg  \n",
            "  inflating: corals/train/healthy/9944219035_5c47b13e8f_o.jpg  \n"
          ]
        }
      ],
      "source": [
        "!unzip /content/drive/MyDrive/corals.zip"
      ]
    },
    {
      "cell_type": "code",
      "execution_count": 105,
      "metadata": {
        "id": "N7ocePwTpVJv"
      },
      "outputs": [],
      "source": [
        "import tensorflow as tf\n",
        "from tensorflow import keras\n",
        "from tensorflow.keras.preprocessing.image  import ImageDataGenerator\n",
        "from tensorflow.keras.layers import Dense\n",
        "from tensorflow.keras.activations import softmax\n",
        "from keras.api._v2.keras import activations\n",
        "import pandas as pd\n",
        "from tensorflow.keras import layers, models\n"
      ]
    },
    {
      "cell_type": "code",
      "execution_count": 106,
      "metadata": {
        "colab": {
          "base_uri": "https://localhost:8080/"
        },
        "id": "M_1XG8yk2C6-",
        "outputId": "4097e6dd-fadd-4fe0-ed34-ff27d7a6e918"
      },
      "outputs": [
        {
          "output_type": "stream",
          "name": "stdout",
          "text": [
            "Total training images: 738\n",
            "Total testing images: 185\n",
            "Number of classes: 2\n"
          ]
        }
      ],
      "source": [
        "# Load the CSV files containing image labels\n",
        "train_labels = pd.read_csv('/content/corals/train.csv')\n",
        "test_labels = pd.read_csv('/content/corals/test.csv')\n",
        "\n",
        "# Display the total number of images and classes\n",
        "total_train_images = len(train_labels)\n",
        "total_test_images = len(test_labels)\n",
        "num_classes = len(train_labels['label'].unique())\n",
        "\n",
        "print(f'Total training images: {total_train_images}')\n",
        "print(f'Total testing images: {total_test_images}')\n",
        "print(f'Number of classes: {num_classes}')\n",
        "batch_size=32"
      ]
    },
    {
      "cell_type": "code",
      "execution_count": 113,
      "metadata": {
        "id": "xjmge1pdYCpX"
      },
      "outputs": [],
      "source": [
        "train_datagen = ImageDataGenerator(\n",
        "rescale=1./255,\n",
        "zoom_range=0.2,\n",
        "horizontal_flip=True,\n",
        "validation_split=0.2)"
      ]
    },
    {
      "cell_type": "code",
      "execution_count": 115,
      "metadata": {
        "id": "KUG5AW83YMi2"
      },
      "outputs": [],
      "source": [
        "test_datagen = ImageDataGenerator(rescale = 1./255,\n",
        "                                   zoom_range = 0.2,\n",
        "                                   horizontal_flip = True,\n",
        "                                   validation_split=0.2)"
      ]
    },
    {
      "cell_type": "code",
      "execution_count": 116,
      "metadata": {
        "colab": {
          "base_uri": "https://localhost:8080/"
        },
        "id": "sqxIfLmdYNNf",
        "outputId": "76093f25-0358-4a87-d353-d5833f911313"
      },
      "outputs": [
        {
          "output_type": "stream",
          "name": "stdout",
          "text": [
            "Found 591 images belonging to 2 classes.\n"
          ]
        }
      ],
      "source": [
        "#x_train = train_datagen.flow_from_directory()\n",
        "train_set = train_datagen.flow_from_directory('/content/corals/train',\n",
        "                                              target_size=(299,299),\n",
        "                                              batch_size=32,\n",
        "                                              class_mode= 'categorical',\n",
        "                                              subset='training')"
      ]
    },
    {
      "cell_type": "code",
      "execution_count": 117,
      "metadata": {
        "colab": {
          "base_uri": "https://localhost:8080/"
        },
        "id": "vgdfJPdXfQhO",
        "outputId": "119d0275-c3a6-42fc-98ef-667a010f2a07"
      },
      "outputs": [
        {
          "output_type": "execute_result",
          "data": {
            "text/plain": [
              "{'bleached': 0, 'healthy': 1}"
            ]
          },
          "metadata": {},
          "execution_count": 117
        }
      ],
      "source": [
        "train_set.class_indices"
      ]
    },
    {
      "cell_type": "code",
      "execution_count": 118,
      "metadata": {
        "colab": {
          "base_uri": "https://localhost:8080/"
        },
        "id": "7PUDEaxTfWS0",
        "outputId": "74771898-e8ef-439c-8d7b-281a58be6aa1"
      },
      "outputs": [
        {
          "output_type": "stream",
          "name": "stdout",
          "text": [
            "Found 36 images belonging to 2 classes.\n"
          ]
        }
      ],
      "source": [
        "test_set = test_datagen.flow_from_directory('/content/corals/test',\n",
        "                                            target_size=(299,299),\n",
        "                                            batch_size=32,\n",
        "                                            class_mode='categorical',\n",
        "                                            subset='validation')"
      ]
    },
    {
      "cell_type": "markdown",
      "source": [
        "#**VGG16**"
      ],
      "metadata": {
        "id": "lyTgC3v90-it"
      }
    },
    {
      "cell_type": "code",
      "execution_count": 119,
      "metadata": {
        "id": "Utj6mZZqfqBI"
      },
      "outputs": [],
      "source": [
        "from tensorflow.keras.models import Sequential\n",
        "from tensorflow.keras.layers import Convolution2D, MaxPooling2D,Flatten,Dense"
      ]
    },
    {
      "cell_type": "code",
      "execution_count": 120,
      "metadata": {
        "id": "srg2OANXfvJ0"
      },
      "outputs": [],
      "source": [
        "from tensorflow.keras.applications.vgg16 import VGG16\n",
        "from tensorflow.keras.layers import Dense, Flatten\n",
        "from tensorflow.keras.models import Model"
      ]
    },
    {
      "cell_type": "code",
      "execution_count": 121,
      "metadata": {
        "id": "RL8vptLpfyzh"
      },
      "outputs": [],
      "source": [
        "vgg = VGG16(weights='imagenet',include_top = False,input_shape = (299,299,3))"
      ]
    },
    {
      "cell_type": "code",
      "execution_count": 122,
      "metadata": {
        "colab": {
          "base_uri": "https://localhost:8080/"
        },
        "id": "dkC5M6sof4Tm",
        "outputId": "716bfd80-df8d-4762-9827-7a2c48775139"
      },
      "outputs": [
        {
          "output_type": "stream",
          "name": "stdout",
          "text": [
            "<keras.src.engine.input_layer.InputLayer object at 0x7cd627f4d270>\n",
            "<keras.src.layers.convolutional.conv2d.Conv2D object at 0x7cd62652a7a0>\n",
            "<keras.src.layers.convolutional.conv2d.Conv2D object at 0x7cd6275ac0d0>\n",
            "<keras.src.layers.pooling.max_pooling2d.MaxPooling2D object at 0x7cd8093d6e30>\n",
            "<keras.src.layers.convolutional.conv2d.Conv2D object at 0x7cd7846806a0>\n",
            "<keras.src.layers.convolutional.conv2d.Conv2D object at 0x7cd626217e20>\n",
            "<keras.src.layers.pooling.max_pooling2d.MaxPooling2D object at 0x7cd6262514e0>\n",
            "<keras.src.layers.convolutional.conv2d.Conv2D object at 0x7cd6f12e4eb0>\n",
            "<keras.src.layers.convolutional.conv2d.Conv2D object at 0x7cd6262527d0>\n",
            "<keras.src.layers.convolutional.conv2d.Conv2D object at 0x7cd6272df700>\n",
            "<keras.src.layers.pooling.max_pooling2d.MaxPooling2D object at 0x7cd626252470>\n",
            "<keras.src.layers.convolutional.conv2d.Conv2D object at 0x7cd626252740>\n",
            "<keras.src.layers.convolutional.conv2d.Conv2D object at 0x7cd6262500d0>\n",
            "<keras.src.layers.convolutional.conv2d.Conv2D object at 0x7cd62652a4d0>\n",
            "<keras.src.layers.pooling.max_pooling2d.MaxPooling2D object at 0x7cd6275e0850>\n",
            "<keras.src.layers.convolutional.conv2d.Conv2D object at 0x7cd626252ef0>\n",
            "<keras.src.layers.convolutional.conv2d.Conv2D object at 0x7cd6275e20e0>\n",
            "<keras.src.layers.convolutional.conv2d.Conv2D object at 0x7cd626252980>\n",
            "<keras.src.layers.pooling.max_pooling2d.MaxPooling2D object at 0x7cd6275e3c70>\n"
          ]
        }
      ],
      "source": [
        "for layer in vgg.layers:\n",
        "  print(layer)"
      ]
    },
    {
      "cell_type": "code",
      "execution_count": 123,
      "metadata": {
        "colab": {
          "base_uri": "https://localhost:8080/"
        },
        "id": "Q0X91UjsqIER",
        "outputId": "21cec26b-13bf-4452-8558-207ddf6df1b6"
      },
      "outputs": [
        {
          "output_type": "execute_result",
          "data": {
            "text/plain": [
              "19"
            ]
          },
          "metadata": {},
          "execution_count": 123
        }
      ],
      "source": [
        "len(vgg.layers)"
      ]
    },
    {
      "cell_type": "code",
      "execution_count": 124,
      "metadata": {
        "colab": {
          "base_uri": "https://localhost:8080/"
        },
        "id": "l9XHk-yNlGZf",
        "outputId": "6a764764-7eea-487a-dccb-5465705cea2a"
      },
      "outputs": [
        {
          "output_type": "stream",
          "name": "stdout",
          "text": [
            "Model: \"sequential_4\"\n",
            "_________________________________________________________________\n",
            " Layer (type)                Output Shape              Param #   \n",
            "=================================================================\n",
            " vgg16 (Functional)          (None, 9, 9, 512)         14714688  \n",
            "                                                                 \n",
            " flatten_2 (Flatten)         (None, 41472)             0         \n",
            "                                                                 \n",
            " dense_8 (Dense)             (None, 256)               10617088  \n",
            "                                                                 \n",
            " dropout_4 (Dropout)         (None, 256)               0         \n",
            "                                                                 \n",
            " dense_9 (Dense)             (None, 2)                 514       \n",
            "                                                                 \n",
            "=================================================================\n",
            "Total params: 25332290 (96.64 MB)\n",
            "Trainable params: 10617602 (40.50 MB)\n",
            "Non-trainable params: 14714688 (56.13 MB)\n",
            "_________________________________________________________________\n"
          ]
        }
      ],
      "source": [
        "# Freeze the layers of the pre-trained model\n",
        "for layer in vgg.layers:\n",
        "    layer.trainable = False\n",
        "\n",
        "# Create a new model using the VGG16 base\n",
        "vggmodel = models.Sequential()\n",
        "vggmodel.add(vgg)\n",
        "\n",
        "# Flatten the output and add dense layers for classification\n",
        "vggmodel.add(layers.Flatten())\n",
        "vggmodel.add(layers.Dense(256, activation='relu'))\n",
        "vggmodel.add(layers.Dropout(0.5))\n",
        "vggmodel.add(layers.Dense(2, activation='sigmoid'))\n",
        "\n",
        "# Compile the model\n",
        "vggmodel.compile(optimizer='adam', loss='binary_crossentropy', metrics=['accuracy'])\n",
        "\n",
        "# Display the model summary\n",
        "vggmodel.summary()"
      ]
    },
    {
      "cell_type": "code",
      "execution_count": 125,
      "metadata": {
        "colab": {
          "base_uri": "https://localhost:8080/"
        },
        "id": "e0kuGlz_nj0Z",
        "outputId": "cbceb369-6a5b-4ba2-dc5d-abe5edf97d59"
      },
      "outputs": [
        {
          "output_type": "stream",
          "name": "stdout",
          "text": [
            "Epoch 1/10\n",
            "18/18 [==============================] - 18s 917ms/step - loss: 1.8706 - accuracy: 0.6011 - val_loss: 0.7518 - val_accuracy: 0.6250\n",
            "Epoch 2/10\n",
            "18/18 [==============================] - 16s 889ms/step - loss: 0.6166 - accuracy: 0.6959 - val_loss: 0.5314 - val_accuracy: 0.6875\n",
            "Epoch 3/10\n",
            "18/18 [==============================] - 17s 938ms/step - loss: 0.5416 - accuracy: 0.7263 - val_loss: 0.5971 - val_accuracy: 0.6562\n",
            "Epoch 4/10\n",
            "18/18 [==============================] - 17s 920ms/step - loss: 0.5185 - accuracy: 0.7174 - val_loss: 0.5945 - val_accuracy: 0.7500\n",
            "Epoch 5/10\n",
            "18/18 [==============================] - 16s 875ms/step - loss: 0.4852 - accuracy: 0.7603 - val_loss: 0.5410 - val_accuracy: 0.8438\n",
            "Epoch 6/10\n",
            "18/18 [==============================] - 17s 935ms/step - loss: 0.4639 - accuracy: 0.7746 - val_loss: 0.5626 - val_accuracy: 0.7812\n",
            "Epoch 7/10\n",
            "18/18 [==============================] - 17s 928ms/step - loss: 0.4649 - accuracy: 0.7835 - val_loss: 0.6419 - val_accuracy: 0.7812\n",
            "Epoch 8/10\n",
            "18/18 [==============================] - 16s 903ms/step - loss: 0.5283 - accuracy: 0.7317 - val_loss: 0.5777 - val_accuracy: 0.6875\n",
            "Epoch 9/10\n",
            "18/18 [==============================] - 16s 891ms/step - loss: 0.4874 - accuracy: 0.7692 - val_loss: 0.5561 - val_accuracy: 0.7188\n",
            "Epoch 10/10\n",
            "18/18 [==============================] - 19s 1s/step - loss: 0.4383 - accuracy: 0.7853 - val_loss: 0.5615 - val_accuracy: 0.7812\n"
          ]
        }
      ],
      "source": [
        "epochs = 10\n",
        "\n",
        "history = vggmodel.fit(\n",
        "    train_set,\n",
        "    steps_per_epoch=train_set.samples // batch_size,\n",
        "    epochs=epochs,\n",
        "    validation_data=test_set,\n",
        "    validation_steps=test_set.samples // batch_size\n",
        ")\n"
      ]
    },
    {
      "cell_type": "code",
      "execution_count": 126,
      "metadata": {
        "id": "IxVYGga9gSGD"
      },
      "outputs": [],
      "source": [
        "from keras.optimizers import Adam\n",
        "#opt = Adam(lr=0.001)\n",
        "\n",
        "vggmodel.compile(loss = 'categorical_crossentropy' , metrics =['accuracy'])"
      ]
    },
    {
      "cell_type": "code",
      "execution_count": 21,
      "metadata": {
        "id": "4AY5gO0tggvC"
      },
      "outputs": [],
      "source": [
        "labels = ['bleached','healthy']"
      ]
    },
    {
      "cell_type": "code",
      "source": [
        "import numpy as np\n",
        "import os\n",
        "import shutil\n",
        "from tensorflow.keras.preprocessing.image import ImageDataGenerator\n",
        "from sklearn.model_selection import train_test_split\n",
        "import shutil\n",
        "from sklearn.model_selection import train_test_split\n",
        "from tensorflow.keras.applications.vgg16 import VGG16\n",
        "from tensorflow.keras.layers import Dense, Flatten\n",
        "from tensorflow.keras.models import Model\n",
        "from keras.optimizers import Adam\n",
        "from tensorflow.keras.applications.resnet50 import ResNet50\n",
        "from tensorflow.keras.layers import Dense, Flatten\n",
        "from tensorflow.keras.models import Model\n",
        "from keras.preprocessing import image\n",
        "from keras.applications.vgg16 import preprocess_input\n",
        "from tensorflow.keras.preprocessing.image import load_img, img_to_array"
      ],
      "metadata": {
        "id": "UKcUNZwpednJ"
      },
      "execution_count": 22,
      "outputs": []
    },
    {
      "cell_type": "code",
      "execution_count": 237,
      "metadata": {
        "colab": {
          "base_uri": "https://localhost:8080/"
        },
        "id": "9whG7n8PgtAn",
        "outputId": "ba58e01c-a0a9-4933-c22f-a645b0b74498"
      },
      "outputs": [
        {
          "output_type": "stream",
          "name": "stdout",
          "text": [
            "1/1 [==============================] - 0s 30ms/step\n"
          ]
        },
        {
          "output_type": "execute_result",
          "data": {
            "text/plain": [
              "array([[6.0504203e-04, 9.9999464e-01]], dtype=float32)"
            ]
          },
          "metadata": {},
          "execution_count": 237
        }
      ],
      "source": [
        "import numpy as np\n",
        "img = '/content/corals/test/healthy/14856466066_4c8af3c82e_o.jpg'\n",
        "img = load_img(img, target_size=(299,299))\n",
        "x = img_to_array(img)\n",
        "x = preprocess_input(x)\n",
        "preds = vggmodel.predict(np.array([x]))\n",
        "preds"
      ]
    },
    {
      "cell_type": "code",
      "source": [
        "labels[np.argmax(preds)]"
      ],
      "metadata": {
        "colab": {
          "base_uri": "https://localhost:8080/",
          "height": 36
        },
        "id": "InzR5X6NGigf",
        "outputId": "85922b08-f52b-4613-8251-3cc195bad5e4"
      },
      "execution_count": 238,
      "outputs": [
        {
          "output_type": "execute_result",
          "data": {
            "text/plain": [
              "'healthy'"
            ],
            "application/vnd.google.colaboratory.intrinsic+json": {
              "type": "string"
            }
          },
          "metadata": {},
          "execution_count": 238
        }
      ]
    },
    {
      "cell_type": "code",
      "source": [
        "import numpy as np\n",
        "img = '/content/corals/test/bleached/22320951345_32a7d81f21_b.jpg'\n",
        "img = load_img(img, target_size=(299,299))\n",
        "x = img_to_array(img)\n",
        "x = preprocess_input(x)\n",
        "preds1 = vggmodel.predict(np.array([x]))\n",
        "preds1"
      ],
      "metadata": {
        "colab": {
          "base_uri": "https://localhost:8080/"
        },
        "id": "JBu7iC2Bzi-y",
        "outputId": "bb78a62b-6b7f-4f0c-e184-c8c3be18cecb"
      },
      "execution_count": 217,
      "outputs": [
        {
          "output_type": "stream",
          "name": "stdout",
          "text": [
            "1/1 [==============================] - 0s 26ms/step\n"
          ]
        },
        {
          "output_type": "execute_result",
          "data": {
            "text/plain": [
              "array([[1.000000e+00, 9.092037e-08]], dtype=float32)"
            ]
          },
          "metadata": {},
          "execution_count": 217
        }
      ]
    },
    {
      "cell_type": "code",
      "source": [
        "labels[np.argmax(preds1)]"
      ],
      "metadata": {
        "colab": {
          "base_uri": "https://localhost:8080/",
          "height": 36
        },
        "id": "EYixddtCzpSN",
        "outputId": "2a802b83-b143-4a63-d999-083e5f62ca04"
      },
      "execution_count": 218,
      "outputs": [
        {
          "output_type": "execute_result",
          "data": {
            "text/plain": [
              "'bleached'"
            ],
            "application/vnd.google.colaboratory.intrinsic+json": {
              "type": "string"
            }
          },
          "metadata": {},
          "execution_count": 218
        }
      ]
    },
    {
      "cell_type": "markdown",
      "source": [
        "#**Resnet**\n"
      ],
      "metadata": {
        "id": "Gc-8i1Awv5yf"
      }
    },
    {
      "cell_type": "code",
      "source": [
        "from tensorflow.keras.applications import ResNet50\n",
        "from tensorflow.keras import models, layers\n",
        "\n",
        "# Load the pre-trained ResNet50 model\n",
        "resnet = ResNet50(weights='imagenet', include_top=False, input_shape=(299, 299, 3))\n",
        "\n",
        "# Freeze the layers of the pre-trained model\n",
        "for layer in resnet.layers:\n",
        "    layer.trainable = False\n",
        "\n",
        "# Create a new model using the ResNet50 base\n",
        "resnet_model = models.Sequential()\n",
        "resnet_model.add(resnet)\n",
        "\n",
        "# Flatten the output and add dense layers for classification\n",
        "resnet_model.add(layers.Flatten())\n",
        "resnet_model.add(layers.Dense(256, activation='relu'))\n",
        "resnet_model.add(layers.Dropout(0.5))\n",
        "resnet_model.add(layers.Dense(2, activation='sigmoid'))\n",
        "\n",
        "# Compile the model\n",
        "resnet_model.compile(optimizer='adam', loss='binary_crossentropy', metrics=['accuracy'])\n",
        "\n",
        "# Display the model summary\n",
        "resnet_model.summary()\n"
      ],
      "metadata": {
        "colab": {
          "base_uri": "https://localhost:8080/"
        },
        "id": "nnyw5vi7v-4a",
        "outputId": "1b60bf00-8480-4200-e956-c92bb4222b02"
      },
      "execution_count": 127,
      "outputs": [
        {
          "output_type": "stream",
          "name": "stdout",
          "text": [
            "Model: \"sequential_5\"\n",
            "_________________________________________________________________\n",
            " Layer (type)                Output Shape              Param #   \n",
            "=================================================================\n",
            " resnet50 (Functional)       (None, 10, 10, 2048)      23587712  \n",
            "                                                                 \n",
            " flatten_3 (Flatten)         (None, 204800)            0         \n",
            "                                                                 \n",
            " dense_10 (Dense)            (None, 256)               52429056  \n",
            "                                                                 \n",
            " dropout_5 (Dropout)         (None, 256)               0         \n",
            "                                                                 \n",
            " dense_11 (Dense)            (None, 2)                 514       \n",
            "                                                                 \n",
            "=================================================================\n",
            "Total params: 76017282 (289.98 MB)\n",
            "Trainable params: 52429570 (200.00 MB)\n",
            "Non-trainable params: 23587712 (89.98 MB)\n",
            "_________________________________________________________________\n"
          ]
        }
      ]
    },
    {
      "cell_type": "code",
      "source": [
        "epochs = 10\n",
        "batch_size = 32  # Adjust the batch size based on your requirements\n",
        "\n",
        "history= resnet_model.fit(\n",
        "    train_set,\n",
        "    steps_per_epoch=train_set.samples // batch_size,\n",
        "    epochs=epochs,\n",
        "    validation_data=test_set,\n",
        "    validation_steps=test_set.samples // batch_size\n",
        ")\n"
      ],
      "metadata": {
        "colab": {
          "base_uri": "https://localhost:8080/"
        },
        "id": "SSirmjLEwedV",
        "outputId": "df601686-a9e8-4b33-8a93-eb92ce144942"
      },
      "execution_count": 128,
      "outputs": [
        {
          "output_type": "stream",
          "name": "stdout",
          "text": [
            "Epoch 1/10\n",
            "18/18 [==============================] - 25s 950ms/step - loss: 14.7002 - accuracy: 0.5063 - val_loss: 2.5426 - val_accuracy: 0.4375\n",
            "Epoch 2/10\n",
            "18/18 [==============================] - 15s 812ms/step - loss: 1.1914 - accuracy: 0.5224 - val_loss: 0.6932 - val_accuracy: 0.4375\n",
            "Epoch 3/10\n",
            "18/18 [==============================] - 15s 848ms/step - loss: 0.6931 - accuracy: 0.5116 - val_loss: 0.6931 - val_accuracy: 0.5312\n",
            "Epoch 4/10\n",
            "18/18 [==============================] - 15s 829ms/step - loss: 0.7609 - accuracy: 0.5098 - val_loss: 0.6930 - val_accuracy: 0.5625\n",
            "Epoch 5/10\n",
            "18/18 [==============================] - 15s 850ms/step - loss: 0.6931 - accuracy: 0.5170 - val_loss: 0.6930 - val_accuracy: 0.5938\n",
            "Epoch 6/10\n",
            "18/18 [==============================] - 15s 798ms/step - loss: 0.6931 - accuracy: 0.5134 - val_loss: 0.6929 - val_accuracy: 0.5938\n",
            "Epoch 7/10\n",
            "18/18 [==============================] - 15s 786ms/step - loss: 0.7659 - accuracy: 0.5206 - val_loss: 0.6929 - val_accuracy: 0.5625\n",
            "Epoch 8/10\n",
            "18/18 [==============================] - 15s 816ms/step - loss: 0.6931 - accuracy: 0.5242 - val_loss: 0.6928 - val_accuracy: 0.5938\n",
            "Epoch 9/10\n",
            "18/18 [==============================] - 15s 817ms/step - loss: 0.6931 - accuracy: 0.5170 - val_loss: 0.6932 - val_accuracy: 0.5000\n",
            "Epoch 10/10\n",
            "18/18 [==============================] - 17s 935ms/step - loss: 0.6930 - accuracy: 0.5152 - val_loss: 0.6922 - val_accuracy: 0.5938\n"
          ]
        }
      ]
    },
    {
      "cell_type": "code",
      "source": [
        "from keras.optimizers import Adam\n",
        "#opt = Adam(lr=0.001)\n",
        "\n",
        "resnet_model.compile(loss = 'categorical_crossentropy' , metrics =['accuracy'])"
      ],
      "metadata": {
        "id": "ZixrjcCuyxHV"
      },
      "execution_count": 36,
      "outputs": []
    },
    {
      "cell_type": "code",
      "source": [
        "labels = ['bleached','healthy']"
      ],
      "metadata": {
        "id": "oV5dqN0_y2eu"
      },
      "execution_count": 37,
      "outputs": []
    },
    {
      "cell_type": "code",
      "source": [
        "img = '/content/corals/test/healthy/12678987553_66ddc5afd9_b.jpg'\n",
        "img = load_img(img, target_size=(299,299))\n",
        "x = img_to_array(img)\n",
        "x = preprocess_input(x)\n",
        "preds = resnet_model.predict(np.array([x])).flatten()\n",
        "preds"
      ],
      "metadata": {
        "colab": {
          "base_uri": "https://localhost:8080/"
        },
        "id": "rb1YMe7vy8Sx",
        "outputId": "c6915d3a-274d-4ee5-ec3d-aa22b73d7943"
      },
      "execution_count": 255,
      "outputs": [
        {
          "output_type": "stream",
          "name": "stdout",
          "text": [
            "1/1 [==============================] - 0s 115ms/step\n"
          ]
        },
        {
          "output_type": "execute_result",
          "data": {
            "text/plain": [
              "array([0.23467752, 0.47156852], dtype=float32)"
            ]
          },
          "metadata": {},
          "execution_count": 255
        }
      ]
    },
    {
      "cell_type": "code",
      "source": [
        "labels[np.argmax(preds)]"
      ],
      "metadata": {
        "colab": {
          "base_uri": "https://localhost:8080/",
          "height": 36
        },
        "id": "ll9clXEUv-Ix",
        "outputId": "a4973cf8-fd9e-4c22-95af-b588f5431d8f"
      },
      "execution_count": 256,
      "outputs": [
        {
          "output_type": "execute_result",
          "data": {
            "text/plain": [
              "'healthy'"
            ],
            "application/vnd.google.colaboratory.intrinsic+json": {
              "type": "string"
            }
          },
          "metadata": {},
          "execution_count": 256
        }
      ]
    },
    {
      "cell_type": "code",
      "source": [
        "img = '/content/corals/test/bleached/14633767870_660d182ff5_o.jpg'\n",
        "img = load_img(img, target_size=(299,299))\n",
        "x = img_to_array(img)\n",
        "x = preprocess_input(x)\n",
        "preds1= resnet_model.predict(np.array([x])).flatten()\n",
        "preds1"
      ],
      "metadata": {
        "colab": {
          "base_uri": "https://localhost:8080/"
        },
        "id": "HtO3ZYqpfB6x",
        "outputId": "3012f66c-c027-49e1-97a6-d6ebcf6f5490"
      },
      "execution_count": 257,
      "outputs": [
        {
          "output_type": "stream",
          "name": "stdout",
          "text": [
            "1/1 [==============================] - 0s 53ms/step\n"
          ]
        },
        {
          "output_type": "execute_result",
          "data": {
            "text/plain": [
              "array([0.43522742, 0.16685407], dtype=float32)"
            ]
          },
          "metadata": {},
          "execution_count": 257
        }
      ]
    },
    {
      "cell_type": "code",
      "source": [
        "labels[np.argmax(preds1)]"
      ],
      "metadata": {
        "colab": {
          "base_uri": "https://localhost:8080/",
          "height": 36
        },
        "id": "5LfFm1sMfEor",
        "outputId": "13d194d0-85d9-4085-c0d2-5704ecdde8f8"
      },
      "execution_count": 258,
      "outputs": [
        {
          "output_type": "execute_result",
          "data": {
            "text/plain": [
              "'bleached'"
            ],
            "application/vnd.google.colaboratory.intrinsic+json": {
              "type": "string"
            }
          },
          "metadata": {},
          "execution_count": 258
        }
      ]
    },
    {
      "cell_type": "markdown",
      "source": [
        "#**Inception**"
      ],
      "metadata": {
        "id": "EoFjVyU-3gAG"
      }
    },
    {
      "cell_type": "code",
      "source": [
        "from tensorflow.keras.applications import InceptionV3\n",
        "from tensorflow.keras import models, layers\n",
        "\n",
        "# Load the pre-trained InceptionV3 model\n",
        "inception = InceptionV3(weights='imagenet', include_top=False, input_shape=(299, 299, 3))\n",
        "\n",
        "# Freeze the layers of the pre-trained model\n",
        "for layer in inception.layers:\n",
        "    layer.trainable = False\n",
        "\n",
        "# Create a new model using the InceptionV3 base\n",
        "inception_model = models.Sequential()\n",
        "inception_model.add(inception)\n",
        "\n",
        "# Add a Global Average Pooling layer\n",
        "inception_model.add(layers.GlobalAveragePooling2D())\n",
        "\n",
        "# Add dense layers for classification\n",
        "inception_model.add(layers.Dense(256, activation='relu'))\n",
        "inception_model.add(layers.Dropout(0.5))\n",
        "inception_model.add(layers.Dense(2, activation='sigmoid'))\n",
        "\n",
        "# Compile the model\n",
        "inception_model.compile(optimizer='adam', loss='binary_crossentropy', metrics=['accuracy'])\n",
        "\n",
        "# Display the model summary\n",
        "inception_model.summary()\n"
      ],
      "metadata": {
        "colab": {
          "base_uri": "https://localhost:8080/"
        },
        "id": "xwWx5nit3fL-",
        "outputId": "39204443-e874-42d7-d6c6-99be3fa1a450"
      },
      "execution_count": 129,
      "outputs": [
        {
          "output_type": "stream",
          "name": "stdout",
          "text": [
            "Model: \"sequential_6\"\n",
            "_________________________________________________________________\n",
            " Layer (type)                Output Shape              Param #   \n",
            "=================================================================\n",
            " inception_v3 (Functional)   (None, 8, 8, 2048)        21802784  \n",
            "                                                                 \n",
            " global_average_pooling2d_2  (None, 2048)              0         \n",
            "  (GlobalAveragePooling2D)                                       \n",
            "                                                                 \n",
            " dense_12 (Dense)            (None, 256)               524544    \n",
            "                                                                 \n",
            " dropout_6 (Dropout)         (None, 256)               0         \n",
            "                                                                 \n",
            " dense_13 (Dense)            (None, 2)                 514       \n",
            "                                                                 \n",
            "=================================================================\n",
            "Total params: 22327842 (85.17 MB)\n",
            "Trainable params: 525058 (2.00 MB)\n",
            "Non-trainable params: 21802784 (83.17 MB)\n",
            "_________________________________________________________________\n"
          ]
        }
      ]
    },
    {
      "cell_type": "code",
      "source": [
        "epochs = 10\n",
        "batch_size = 32  # Adjust the batch size based on your requirements\n",
        "\n",
        "history= inception_model.fit(\n",
        "    train_set,\n",
        "    steps_per_epoch=train_set.samples // batch_size,\n",
        "    epochs=epochs,\n",
        "    validation_data=test_set,\n",
        "    validation_steps=test_set.samples // batch_size\n",
        ")"
      ],
      "metadata": {
        "colab": {
          "base_uri": "https://localhost:8080/"
        },
        "id": "AvA3GHnM3Tfc",
        "outputId": "b8a3871d-72b9-43c3-d87b-bae180a57f13"
      },
      "execution_count": 130,
      "outputs": [
        {
          "output_type": "stream",
          "name": "stdout",
          "text": [
            "Epoch 1/10\n",
            "18/18 [==============================] - 21s 885ms/step - loss: 0.6863 - accuracy: 0.6225 - val_loss: 0.5913 - val_accuracy: 0.6562\n",
            "Epoch 2/10\n",
            "18/18 [==============================] - 14s 793ms/step - loss: 0.5863 - accuracy: 0.6869 - val_loss: 0.5707 - val_accuracy: 0.7188\n",
            "Epoch 3/10\n",
            "18/18 [==============================] - 14s 802ms/step - loss: 0.5474 - accuracy: 0.7156 - val_loss: 0.5487 - val_accuracy: 0.7188\n",
            "Epoch 4/10\n",
            "18/18 [==============================] - 14s 756ms/step - loss: 0.5198 - accuracy: 0.7567 - val_loss: 0.4796 - val_accuracy: 0.7812\n",
            "Epoch 5/10\n",
            "18/18 [==============================] - 14s 797ms/step - loss: 0.5056 - accuracy: 0.7335 - val_loss: 0.5586 - val_accuracy: 0.6875\n",
            "Epoch 6/10\n",
            "18/18 [==============================] - 14s 797ms/step - loss: 0.5073 - accuracy: 0.7406 - val_loss: 0.5793 - val_accuracy: 0.6250\n",
            "Epoch 7/10\n",
            "18/18 [==============================] - 14s 798ms/step - loss: 0.4956 - accuracy: 0.7478 - val_loss: 0.5338 - val_accuracy: 0.6562\n",
            "Epoch 8/10\n",
            "18/18 [==============================] - 14s 792ms/step - loss: 0.4868 - accuracy: 0.7388 - val_loss: 0.4442 - val_accuracy: 0.7812\n",
            "Epoch 9/10\n",
            "18/18 [==============================] - 14s 806ms/step - loss: 0.4776 - accuracy: 0.7585 - val_loss: 0.4878 - val_accuracy: 0.7812\n",
            "Epoch 10/10\n",
            "18/18 [==============================] - 14s 800ms/step - loss: 0.4906 - accuracy: 0.7657 - val_loss: 0.4435 - val_accuracy: 0.7500\n"
          ]
        }
      ]
    },
    {
      "cell_type": "code",
      "source": [
        "from keras.optimizers import Adam\n",
        "#opt = Adam(lr=0.001)\n",
        "\n",
        "inception_model.compile(loss = 'categorical_crossentropy' , metrics =['accuracy'])"
      ],
      "metadata": {
        "id": "7-hsWJ3k-ms_"
      },
      "execution_count": 44,
      "outputs": []
    },
    {
      "cell_type": "code",
      "source": [
        "labels = ['bleached','healthy']"
      ],
      "metadata": {
        "id": "UjLz1j8S-7o5"
      },
      "execution_count": 45,
      "outputs": []
    },
    {
      "cell_type": "code",
      "source": [
        "img = '//content/corals/test/healthy/37391917484_2974d97d44_b.jpg'\n",
        "img = load_img(img, target_size=(299,299))\n",
        "x = img_to_array(img)\n",
        "x = preprocess_input(x)\n",
        "preds = inception_model.predict(np.array([x])).flatten()\n",
        "preds"
      ],
      "metadata": {
        "colab": {
          "base_uri": "https://localhost:8080/"
        },
        "id": "ie693HSL_Grz",
        "outputId": "cf48171b-f7f2-47ad-d383-d19ef26d5372"
      },
      "execution_count": 46,
      "outputs": [
        {
          "output_type": "stream",
          "name": "stdout",
          "text": [
            "1/1 [==============================] - 3s 3s/step\n"
          ]
        },
        {
          "output_type": "execute_result",
          "data": {
            "text/plain": [
              "array([2.8672073e-12, 1.0000000e+00], dtype=float32)"
            ]
          },
          "metadata": {},
          "execution_count": 46
        }
      ]
    },
    {
      "cell_type": "code",
      "source": [
        "labels[np.argmax(preds)]"
      ],
      "metadata": {
        "colab": {
          "base_uri": "https://localhost:8080/",
          "height": 36
        },
        "id": "8tBhGpsY_Hd9",
        "outputId": "9f7b521c-9f30-4e44-dc48-1b0c32041321"
      },
      "execution_count": 47,
      "outputs": [
        {
          "output_type": "execute_result",
          "data": {
            "text/plain": [
              "'healthy'"
            ],
            "application/vnd.google.colaboratory.intrinsic+json": {
              "type": "string"
            }
          },
          "metadata": {},
          "execution_count": 47
        }
      ]
    },
    {
      "cell_type": "code",
      "source": [
        "img = '/content/corals/test/bleached/14157549490_03cdd7426c_o.jpg'\n",
        "img = load_img(img, target_size=(299,299))\n",
        "x = img_to_array(img)\n",
        "x = preprocess_input(x)\n",
        "preds1 = inception_model.predict(np.array([x])).flatten()\n",
        "preds1"
      ],
      "metadata": {
        "colab": {
          "base_uri": "https://localhost:8080/"
        },
        "id": "D1HNFIYy1wtA",
        "outputId": "8ae2df5e-a3f4-40c9-f9a0-75049a1b1ee1"
      },
      "execution_count": 269,
      "outputs": [
        {
          "output_type": "stream",
          "name": "stdout",
          "text": [
            "1/1 [==============================] - 0s 26ms/step\n"
          ]
        },
        {
          "output_type": "execute_result",
          "data": {
            "text/plain": [
              "array([0.9990319, 0.0054231], dtype=float32)"
            ]
          },
          "metadata": {},
          "execution_count": 269
        }
      ]
    },
    {
      "cell_type": "code",
      "source": [
        "labels[np.argmax(preds1)]"
      ],
      "metadata": {
        "colab": {
          "base_uri": "https://localhost:8080/",
          "height": 36
        },
        "id": "lUHZiIyn12fM",
        "outputId": "a5b84831-7e8a-44df-e0e2-c53393ae3312"
      },
      "execution_count": 270,
      "outputs": [
        {
          "output_type": "execute_result",
          "data": {
            "text/plain": [
              "'bleached'"
            ],
            "application/vnd.google.colaboratory.intrinsic+json": {
              "type": "string"
            }
          },
          "metadata": {},
          "execution_count": 270
        }
      ]
    },
    {
      "cell_type": "markdown",
      "source": [
        "#**Densenet**\n"
      ],
      "metadata": {
        "id": "IZEVioki_luJ"
      }
    },
    {
      "cell_type": "code",
      "source": [
        "from tensorflow.keras.applications import DenseNet121\n",
        "from tensorflow.keras import models, layers\n",
        "\n",
        "# Load the pre-trained DenseNet121 model\n",
        "densenet = DenseNet121(weights='imagenet', include_top=False, input_shape=(299, 299, 3))\n",
        "\n",
        "# Freeze the layers of the pre-trained model\n",
        "for layer in densenet.layers:\n",
        "    layer.trainable = False\n",
        "\n",
        "# Create a new model using the DenseNet121 base\n",
        "densenet_model = models.Sequential()\n",
        "densenet_model.add(densenet)\n",
        "\n",
        "# Add a Global Average Pooling layer\n",
        "densenet_model.add(layers.GlobalAveragePooling2D())\n",
        "\n",
        "# Add dense layers for classification\n",
        "densenet_model.add(layers.Dense(256, activation='relu'))\n",
        "densenet_model.add(layers.Dropout(0.5))\n",
        "densenet_model.add(layers.Dense(2, activation='sigmoid'))\n",
        "\n",
        "# Compile the model\n",
        "densenet_model.compile(optimizer='adam', loss='binary_crossentropy', metrics=['accuracy'])\n",
        "\n",
        "# Display the model summary\n",
        "densenet_model.summary()\n"
      ],
      "metadata": {
        "colab": {
          "base_uri": "https://localhost:8080/"
        },
        "id": "U99IAZmE_k0A",
        "outputId": "33642481-12e7-41d3-b0bd-8f081f2002c2"
      },
      "execution_count": 131,
      "outputs": [
        {
          "output_type": "stream",
          "name": "stdout",
          "text": [
            "Model: \"sequential_7\"\n",
            "_________________________________________________________________\n",
            " Layer (type)                Output Shape              Param #   \n",
            "=================================================================\n",
            " densenet121 (Functional)    (None, 9, 9, 1024)        7037504   \n",
            "                                                                 \n",
            " global_average_pooling2d_3  (None, 1024)              0         \n",
            "  (GlobalAveragePooling2D)                                       \n",
            "                                                                 \n",
            " dense_14 (Dense)            (None, 256)               262400    \n",
            "                                                                 \n",
            " dropout_7 (Dropout)         (None, 256)               0         \n",
            "                                                                 \n",
            " dense_15 (Dense)            (None, 2)                 514       \n",
            "                                                                 \n",
            "=================================================================\n",
            "Total params: 7300418 (27.85 MB)\n",
            "Trainable params: 262914 (1.00 MB)\n",
            "Non-trainable params: 7037504 (26.85 MB)\n",
            "_________________________________________________________________\n"
          ]
        }
      ]
    },
    {
      "cell_type": "code",
      "source": [
        "epochs = 10\n",
        "batch_size = 32  # Adjust the batch size based on your requirements\n",
        "\n",
        "history= densenet_model.fit(\n",
        "    train_set,\n",
        "    steps_per_epoch=train_set.samples // batch_size,\n",
        "    epochs=epochs,\n",
        "    validation_data=test_set,\n",
        "    validation_steps=test_set.samples // batch_size\n",
        ")"
      ],
      "metadata": {
        "colab": {
          "base_uri": "https://localhost:8080/"
        },
        "id": "ZYmN2s9V_316",
        "outputId": "f506f472-ae01-4005-9109-7c502269d89a"
      },
      "execution_count": 132,
      "outputs": [
        {
          "output_type": "stream",
          "name": "stdout",
          "text": [
            "Epoch 1/10\n",
            "18/18 [==============================] - 24s 972ms/step - loss: 0.6851 - accuracy: 0.6369 - val_loss: 0.6017 - val_accuracy: 0.6875\n",
            "Epoch 2/10\n",
            "18/18 [==============================] - 15s 818ms/step - loss: 0.5751 - accuracy: 0.6995 - val_loss: 0.6435 - val_accuracy: 0.6562\n",
            "Epoch 3/10\n",
            "18/18 [==============================] - 14s 769ms/step - loss: 0.4909 - accuracy: 0.7531 - val_loss: 0.5803 - val_accuracy: 0.6875\n",
            "Epoch 4/10\n",
            "18/18 [==============================] - 15s 803ms/step - loss: 0.4858 - accuracy: 0.7710 - val_loss: 0.4287 - val_accuracy: 0.8438\n",
            "Epoch 5/10\n",
            "18/18 [==============================] - 15s 793ms/step - loss: 0.4569 - accuracy: 0.7674 - val_loss: 0.5348 - val_accuracy: 0.8125\n",
            "Epoch 6/10\n",
            "18/18 [==============================] - 15s 810ms/step - loss: 0.4991 - accuracy: 0.7549 - val_loss: 0.5214 - val_accuracy: 0.7500\n",
            "Epoch 7/10\n",
            "18/18 [==============================] - 14s 807ms/step - loss: 0.4210 - accuracy: 0.8157 - val_loss: 0.5745 - val_accuracy: 0.6875\n",
            "Epoch 8/10\n",
            "18/18 [==============================] - 14s 807ms/step - loss: 0.4293 - accuracy: 0.8175 - val_loss: 0.5373 - val_accuracy: 0.7500\n",
            "Epoch 9/10\n",
            "18/18 [==============================] - 14s 805ms/step - loss: 0.4055 - accuracy: 0.8211 - val_loss: 0.5847 - val_accuracy: 0.7500\n",
            "Epoch 10/10\n",
            "18/18 [==============================] - 15s 791ms/step - loss: 0.4042 - accuracy: 0.8157 - val_loss: 0.5244 - val_accuracy: 0.7188\n"
          ]
        }
      ]
    },
    {
      "cell_type": "code",
      "source": [
        "img = '/content/corals/test/healthy/10167343533_ea141f7e70_b.jpg'\n",
        "img = load_img(img, target_size=(299,299))\n",
        "x = img_to_array(img)\n",
        "x = preprocess_input(x)\n",
        "preds = densenet_model.predict(np.array([x])).flatten()\n",
        "preds"
      ],
      "metadata": {
        "colab": {
          "base_uri": "https://localhost:8080/"
        },
        "id": "lRl6w9ptAAp-",
        "outputId": "a1a83888-5f95-4c82-d12b-48bee90041dd"
      },
      "execution_count": 279,
      "outputs": [
        {
          "output_type": "stream",
          "name": "stdout",
          "text": [
            "1/1 [==============================] - 0s 52ms/step\n"
          ]
        },
        {
          "output_type": "execute_result",
          "data": {
            "text/plain": [
              "array([0.5713068, 0.8180201], dtype=float32)"
            ]
          },
          "metadata": {},
          "execution_count": 279
        }
      ]
    },
    {
      "cell_type": "code",
      "source": [
        "labels[np.argmax(preds)]"
      ],
      "metadata": {
        "colab": {
          "base_uri": "https://localhost:8080/",
          "height": 36
        },
        "id": "FmYsRbwB28pe",
        "outputId": "f3d7af53-e9e7-4534-b85a-ffdb9587402f"
      },
      "execution_count": 280,
      "outputs": [
        {
          "output_type": "execute_result",
          "data": {
            "text/plain": [
              "'healthy'"
            ],
            "application/vnd.google.colaboratory.intrinsic+json": {
              "type": "string"
            }
          },
          "metadata": {},
          "execution_count": 280
        }
      ]
    },
    {
      "cell_type": "code",
      "source": [
        "img = '/content/corals/test/bleached/11263772193_b910d0037b_o.jpg'\n",
        "img = load_img(img, target_size=(299,299))\n",
        "x = img_to_array(img)\n",
        "x = preprocess_input(x)\n",
        "preds1 = densenet_model.predict(np.array([x])).flatten()\n",
        "preds1"
      ],
      "metadata": {
        "colab": {
          "base_uri": "https://localhost:8080/"
        },
        "id": "_jYWxDwo3Dc1",
        "outputId": "8f63fe57-9f46-46bd-d574-a6d9102b8be6"
      },
      "execution_count": 277,
      "outputs": [
        {
          "output_type": "stream",
          "name": "stdout",
          "text": [
            "1/1 [==============================] - 0s 56ms/step\n"
          ]
        },
        {
          "output_type": "execute_result",
          "data": {
            "text/plain": [
              "array([0.993729 , 0.0273751], dtype=float32)"
            ]
          },
          "metadata": {},
          "execution_count": 277
        }
      ]
    },
    {
      "cell_type": "code",
      "source": [
        "labels[np.argmax(preds1)]"
      ],
      "metadata": {
        "colab": {
          "base_uri": "https://localhost:8080/",
          "height": 36
        },
        "id": "I124wNlK3LQR",
        "outputId": "bb283b2e-97bb-460b-be72-fcd0c36ab963"
      },
      "execution_count": 278,
      "outputs": [
        {
          "output_type": "execute_result",
          "data": {
            "text/plain": [
              "'bleached'"
            ],
            "application/vnd.google.colaboratory.intrinsic+json": {
              "type": "string"
            }
          },
          "metadata": {},
          "execution_count": 278
        }
      ]
    },
    {
      "cell_type": "markdown",
      "source": [
        "#**Xpection**"
      ],
      "metadata": {
        "id": "PLvAc0lOBo2g"
      }
    },
    {
      "cell_type": "code",
      "source": [
        "from tensorflow.keras.applications import Xception\n",
        "from tensorflow.keras import models, layers\n",
        "\n",
        "# Load the pre-trained Xception model\n",
        "xception = Xception(weights='imagenet', include_top=False, input_shape=(299, 299, 3))\n",
        "\n",
        "# Freeze the layers of the pre-trained model\n",
        "for layer in xception.layers:\n",
        "    layer.trainable = False\n",
        "\n",
        "# Create a new model using the Xception base\n",
        "xception_model = models.Sequential()\n",
        "xception_model.add(xception)\n",
        "\n",
        "# Add a Global Average Pooling layer\n",
        "xception_model.add(layers.GlobalAveragePooling2D())\n",
        "\n",
        "# Add dense layers for classification\n",
        "xception_model.add(layers.Dense(256, activation='relu'))\n",
        "xception_model.add(layers.Dropout(0.5))\n",
        "xception_model.add(layers.Dense(2, activation='sigmoid'))\n",
        "\n",
        "# Compile the model\n",
        "xception_model.compile(optimizer='adam', loss='binary_crossentropy', metrics=['accuracy'])\n",
        "\n",
        "# Display the model summary\n",
        "xception_model.summary()\n"
      ],
      "metadata": {
        "colab": {
          "base_uri": "https://localhost:8080/"
        },
        "id": "M65HFrmiBsFG",
        "outputId": "6e77eae6-8d71-4420-bc05-0eef3b4e7bba"
      },
      "execution_count": 133,
      "outputs": [
        {
          "output_type": "stream",
          "name": "stdout",
          "text": [
            "Downloading data from https://storage.googleapis.com/tensorflow/keras-applications/xception/xception_weights_tf_dim_ordering_tf_kernels_notop.h5\n",
            "83683744/83683744 [==============================] - 0s 0us/step\n",
            "Model: \"sequential_8\"\n",
            "_________________________________________________________________\n",
            " Layer (type)                Output Shape              Param #   \n",
            "=================================================================\n",
            " xception (Functional)       (None, 10, 10, 2048)      20861480  \n",
            "                                                                 \n",
            " global_average_pooling2d_4  (None, 2048)              0         \n",
            "  (GlobalAveragePooling2D)                                       \n",
            "                                                                 \n",
            " dense_16 (Dense)            (None, 256)               524544    \n",
            "                                                                 \n",
            " dropout_8 (Dropout)         (None, 256)               0         \n",
            "                                                                 \n",
            " dense_17 (Dense)            (None, 2)                 514       \n",
            "                                                                 \n",
            "=================================================================\n",
            "Total params: 21386538 (81.58 MB)\n",
            "Trainable params: 525058 (2.00 MB)\n",
            "Non-trainable params: 20861480 (79.58 MB)\n",
            "_________________________________________________________________\n"
          ]
        }
      ]
    },
    {
      "cell_type": "code",
      "source": [
        "epochs = 10\n",
        "batch_size = 32  # Adjust the batch size based on your requirements\n",
        "\n",
        "history= xception_model.fit(\n",
        "    train_set,\n",
        "    steps_per_epoch=train_set.samples // batch_size,\n",
        "    epochs=epochs,\n",
        "    validation_data=test_set,\n",
        "    validation_steps=test_set.samples // batch_size\n",
        ")"
      ],
      "metadata": {
        "colab": {
          "base_uri": "https://localhost:8080/"
        },
        "id": "WYxYK5HKBvgD",
        "outputId": "7acec2f0-31d9-4cf8-e9ce-d68045c029ed"
      },
      "execution_count": 134,
      "outputs": [
        {
          "output_type": "stream",
          "name": "stdout",
          "text": [
            "Epoch 1/10\n",
            "18/18 [==============================] - 26s 974ms/step - loss: 0.6225 - accuracy: 0.6476 - val_loss: 0.6785 - val_accuracy: 0.6250\n",
            "Epoch 2/10\n",
            "18/18 [==============================] - 15s 830ms/step - loss: 0.5519 - accuracy: 0.7102 - val_loss: 0.5940 - val_accuracy: 0.5938\n",
            "Epoch 3/10\n",
            "18/18 [==============================] - 15s 828ms/step - loss: 0.5401 - accuracy: 0.7496 - val_loss: 0.6180 - val_accuracy: 0.6250\n",
            "Epoch 4/10\n",
            "18/18 [==============================] - 15s 829ms/step - loss: 0.4765 - accuracy: 0.7835 - val_loss: 0.5353 - val_accuracy: 0.6562\n",
            "Epoch 5/10\n",
            "18/18 [==============================] - 15s 833ms/step - loss: 0.4905 - accuracy: 0.7603 - val_loss: 0.5671 - val_accuracy: 0.6562\n",
            "Epoch 6/10\n",
            "18/18 [==============================] - 15s 854ms/step - loss: 0.4530 - accuracy: 0.7835 - val_loss: 0.5348 - val_accuracy: 0.6562\n",
            "Epoch 7/10\n",
            "18/18 [==============================] - 15s 831ms/step - loss: 0.4299 - accuracy: 0.8014 - val_loss: 0.6249 - val_accuracy: 0.6250\n",
            "Epoch 8/10\n",
            "18/18 [==============================] - 15s 826ms/step - loss: 0.5026 - accuracy: 0.7478 - val_loss: 0.6448 - val_accuracy: 0.6875\n",
            "Epoch 9/10\n",
            "18/18 [==============================] - 15s 833ms/step - loss: 0.4376 - accuracy: 0.8032 - val_loss: 0.6042 - val_accuracy: 0.6875\n",
            "Epoch 10/10\n",
            "18/18 [==============================] - 15s 813ms/step - loss: 0.3931 - accuracy: 0.8247 - val_loss: 0.6670 - val_accuracy: 0.5938\n"
          ]
        }
      ]
    },
    {
      "cell_type": "code",
      "source": [
        "img = '//content/corals/test/bleached/14157549490_03cdd7426c_o.jpg'\n",
        "img = load_img(img, target_size=(299,299))\n",
        "x = img_to_array(img)\n",
        "x = preprocess_input(x)\n",
        "preds = xception_model.predict(np.array([x])).flatten()\n",
        "preds"
      ],
      "metadata": {
        "colab": {
          "base_uri": "https://localhost:8080/"
        },
        "id": "Y5bG7uosCmic",
        "outputId": "07fa18d3-a1c2-4b3b-f80e-8db05af27509"
      },
      "execution_count": 283,
      "outputs": [
        {
          "output_type": "stream",
          "name": "stdout",
          "text": [
            "1/1 [==============================] - 0s 48ms/step\n"
          ]
        },
        {
          "output_type": "execute_result",
          "data": {
            "text/plain": [
              "array([0.3957039 , 0.17180482], dtype=float32)"
            ]
          },
          "metadata": {},
          "execution_count": 283
        }
      ]
    },
    {
      "cell_type": "code",
      "source": [
        "labels[np.argmax(preds)]"
      ],
      "metadata": {
        "colab": {
          "base_uri": "https://localhost:8080/",
          "height": 36
        },
        "id": "GM0DFYVsEuk9",
        "outputId": "7256b568-3cf1-4bc2-ff03-a6fea3aa67cf"
      },
      "execution_count": 284,
      "outputs": [
        {
          "output_type": "execute_result",
          "data": {
            "text/plain": [
              "'bleached'"
            ],
            "application/vnd.google.colaboratory.intrinsic+json": {
              "type": "string"
            }
          },
          "metadata": {},
          "execution_count": 284
        }
      ]
    },
    {
      "cell_type": "code",
      "source": [
        "img = '/content/corals/test/healthy/13973931311_daf38429eb_b.jpg'\n",
        "img = load_img(img, target_size=(299,299))\n",
        "x = img_to_array(img)\n",
        "x = preprocess_input(x)\n",
        "preds1 = xception_model.predict(np.array([x])).flatten()\n",
        "preds1"
      ],
      "metadata": {
        "colab": {
          "base_uri": "https://localhost:8080/"
        },
        "id": "o6OmVbDe4fPm",
        "outputId": "070db675-994a-4e31-db35-1acce5dec99c"
      },
      "execution_count": 281,
      "outputs": [
        {
          "output_type": "stream",
          "name": "stdout",
          "text": [
            "1/1 [==============================] - 1s 1s/step\n"
          ]
        },
        {
          "output_type": "execute_result",
          "data": {
            "text/plain": [
              "array([1.2375622e-09, 1.0000000e+00], dtype=float32)"
            ]
          },
          "metadata": {},
          "execution_count": 281
        }
      ]
    },
    {
      "cell_type": "code",
      "source": [
        "labels[np.argmax(preds1)]"
      ],
      "metadata": {
        "colab": {
          "base_uri": "https://localhost:8080/",
          "height": 36
        },
        "id": "1IJ_WSuB4g3N",
        "outputId": "e8ca6f31-81d8-45b3-fa62-82d67afbf4a2"
      },
      "execution_count": 282,
      "outputs": [
        {
          "output_type": "execute_result",
          "data": {
            "text/plain": [
              "'healthy'"
            ],
            "application/vnd.google.colaboratory.intrinsic+json": {
              "type": "string"
            }
          },
          "metadata": {},
          "execution_count": 282
        }
      ]
    },
    {
      "cell_type": "code",
      "source": [
        "#model.save('space_img.h5')\n",
        "vggmodel.save('waves_img.h5')"
      ],
      "metadata": {
        "colab": {
          "base_uri": "https://localhost:8080/"
        },
        "id": "zxTGoR2Nsvu8",
        "outputId": "8ccdd8e4-9d9a-4e9e-83db-12db8ffa9b86"
      },
      "execution_count": 285,
      "outputs": [
        {
          "output_type": "stream",
          "name": "stderr",
          "text": [
            "/usr/local/lib/python3.10/dist-packages/keras/src/engine/training.py:3103: UserWarning: You are saving your model as an HDF5 file via `model.save()`. This file format is considered legacy. We recommend using instead the native Keras format, e.g. `model.save('my_model.keras')`.\n",
            "  saving_api.save_model(\n"
          ]
        }
      ]
    }
  ],
  "metadata": {
    "colab": {
      "provenance": [],
      "gpuType": "T4"
    },
    "kernelspec": {
      "display_name": "Python 3",
      "name": "python3"
    },
    "language_info": {
      "name": "python"
    },
    "accelerator": "GPU"
  },
  "nbformat": 4,
  "nbformat_minor": 0
}